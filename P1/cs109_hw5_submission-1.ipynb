{
 "cells": [
  {
   "cell_type": "markdown",
   "metadata": {},
   "source": [
    "# <img style=\"float: left; padding-right: 10px; width: 45px\" src=\"iacs.png\"> S-109A Introduction to Data Science: \n",
    "\n",
    "## Homework 5: Logistic Regression, High Dimensionality and PCA, LDA/QDA\n",
    "\n",
    "\n",
    "**Harvard University**<br/>\n",
    "**Summer 2018**<br/>\n",
    "**Instructors**: Pavlos Protopapas, Kevin Rader\n",
    "\n",
    "<hr style=\"height:2pt\">\n",
    "\n"
   ]
  },
  {
   "cell_type": "markdown",
   "metadata": {},
   "source": [
    "### INSTRUCTIONS\n",
    "\n",
    "- To submit your assignment follow the instructions given in canvas.\n",
    "- Restart the kernel and run the whole notebook again before you submit. \n",
    "- If you submit individually and you have worked with someone, please include the name of your [one] partner below. \n",
    "\n",
    "Names of people you have worked with goes here: \n",
    "\n",
    "Nikita Roy"
   ]
  },
  {
   "cell_type": "markdown",
   "metadata": {},
   "source": [
    "<hr style=\"height:2pt\">"
   ]
  },
  {
   "cell_type": "code",
   "execution_count": 1,
   "metadata": {},
   "outputs": [],
   "source": [
    "import numpy as np\n",
    "import pandas as pd\n",
    "\n",
    "import statsmodels.api as sm\n",
    "from statsmodels.api import OLS\n",
    "\n",
    "from sklearn.decomposition import PCA\n",
    "from sklearn.linear_model import LogisticRegression\n",
    "from sklearn.linear_model import LogisticRegressionCV\n",
    "from sklearn.discriminant_analysis import LinearDiscriminantAnalysis\n",
    "from sklearn.discriminant_analysis import QuadraticDiscriminantAnalysis\n",
    "from sklearn.preprocessing import PolynomialFeatures\n",
    "from sklearn.neighbors import KNeighborsClassifier\n",
    "from sklearn.model_selection import cross_val_score\n",
    "from sklearn.metrics import accuracy_score\n",
    "from sklearn.model_selection import KFold\n",
    "\n",
    "import math\n",
    "from scipy.special import gamma\n",
    "\n",
    "import matplotlib\n",
    "import matplotlib.pyplot as plt\n",
    "%matplotlib inline\n",
    "\n",
    "import seaborn as sns\n",
    "sns.set()\n",
    "\n",
    "alpha = 0.5"
   ]
  },
  {
   "cell_type": "markdown",
   "metadata": {},
   "source": [
    "## Cancer Classification from Gene Expressions\n",
    "\n",
    "In this problem, we will build a classification model to distinguish between two related classes of cancer, acute lymphoblastic leukemia (ALL) and acute myeloid leukemia (AML), using gene expression measurements. The data set is provided in the file `dataset_hw5_1.csv`. Each row in this file corresponds to a tumor tissue sample from a patient with one of the two forms of Leukemia. The first column contains the cancer type, with 0 indicating the ALL class and 1 indicating the AML class. Columns 2-7130 contain expression levels of 7129 genes recorded from each tissue sample. \n",
    "\n",
    "In the following questions, we will use linear and logistic regression to build a classification models for this data set. We will also use Principal Components Analysis (PCA) to visualize the data and to reduce its dimensions. \n",
    "\n"
   ]
  },
  {
   "cell_type": "markdown",
   "metadata": {},
   "source": [
    "## Question 1: Data Exploration\n",
    "\n",
    "1. First step is to  split  the observations into an approximate 50-50 train-test split.  Below is some code to do this for you (we want to make sure everyone has the same splits).\n",
    "\n",
    "2. Take a peek at your training set: you should notice the severe differences in the measurements from one gene to the next (some are negative, some hover around zero, and some are well into the thousands).  To account for these differences in scale and variability, normalize each predictor to vary between 0 and 1.\n",
    "\n",
    "3. Notice that the results training set contains more predictors than observations. Do you foresee a problem in fitting a classification model to such a data set?\n",
    "\n",
    "4. Lets explore a few of the genes and see how well they discriminate between cancer classes. Create a single figure with four subplots arranged in a 2x2 grid. Consider the following four genes: `D29963_at`, `M23161_at`, `hum_alu_at`, and `AFFX-PheX-5_at`. For each gene overlay two histograms of the gene expression values on one of the subplots, one histogram for each cancer type. Does it appear that any of these genes discriminate between the two classes well? How are you able to tell?\n",
    "\n",
    "5. Since our data has dimensions that are not easily visualizable, we want to reduce the dimensionality of the data to make it easier to visualize. Using PCA, find the top two principal components for the gene expression data. Generate a scatter plot using these principal components, highlighting the two cancer types in different colors. How well do the top two principal components discriminate between the two classes? How much of the variance within the data do these two principal components explain?"
   ]
  },
  {
   "cell_type": "markdown",
   "metadata": {},
   "source": [
    "#### Answers:\n",
    "**1.1:** First step is to split the observations into an approximate 50-50 train-test split. Below is some code to do this for you (we want to make sure everyone has the same splits)."
   ]
  },
  {
   "cell_type": "code",
   "execution_count": 2,
   "metadata": {},
   "outputs": [],
   "source": [
    "np.random.seed(9002)\n",
    "df = pd.read_csv('data/dataset_hw5_1.csv')\n",
    "msk = np.random.rand(len(df)) < 0.5\n",
    "data_train = df[msk]\n",
    "data_test = df[~msk]\n",
    "\n",
    "# Create train and test prediction and response datasets\n",
    "X_train = data_train.copy().drop([\"Cancer_type\"], axis = 1)\n",
    "y_train = data_train.copy()[\"Cancer_type\"]\n",
    "X_test = data_test.copy().drop([\"Cancer_type\"], axis = 1)\n",
    "y_test = data_test.copy()[\"Cancer_type\"]"
   ]
  },
  {
   "cell_type": "code",
   "execution_count": 3,
   "metadata": {},
   "outputs": [
    {
     "data": {
      "text/html": [
       "<div>\n",
       "<style scoped>\n",
       "    .dataframe tbody tr th:only-of-type {\n",
       "        vertical-align: middle;\n",
       "    }\n",
       "\n",
       "    .dataframe tbody tr th {\n",
       "        vertical-align: top;\n",
       "    }\n",
       "\n",
       "    .dataframe thead th {\n",
       "        text-align: right;\n",
       "    }\n",
       "</style>\n",
       "<table border=\"1\" class=\"dataframe\">\n",
       "  <thead>\n",
       "    <tr style=\"text-align: right;\">\n",
       "      <th></th>\n",
       "      <th>Cancer_type</th>\n",
       "      <th>AFFX-BioB-5_at</th>\n",
       "      <th>AFFX-BioB-M_at</th>\n",
       "      <th>AFFX-BioB-3_at</th>\n",
       "      <th>AFFX-BioC-5_at</th>\n",
       "      <th>AFFX-BioC-3_at</th>\n",
       "      <th>AFFX-BioDn-5_at</th>\n",
       "      <th>AFFX-BioDn-3_at</th>\n",
       "      <th>AFFX-CreX-5_at</th>\n",
       "      <th>AFFX-CreX-3_at</th>\n",
       "      <th>...</th>\n",
       "      <th>U48730_at</th>\n",
       "      <th>U58516_at</th>\n",
       "      <th>U73738_at</th>\n",
       "      <th>X06956_at</th>\n",
       "      <th>X16699_at</th>\n",
       "      <th>X83863_at</th>\n",
       "      <th>Z17240_at</th>\n",
       "      <th>L49218_f_at</th>\n",
       "      <th>M71243_f_at</th>\n",
       "      <th>Z78285_f_at</th>\n",
       "    </tr>\n",
       "  </thead>\n",
       "  <tbody>\n",
       "    <tr>\n",
       "      <th>0</th>\n",
       "      <td>0</td>\n",
       "      <td>-214</td>\n",
       "      <td>-153</td>\n",
       "      <td>-58</td>\n",
       "      <td>88</td>\n",
       "      <td>-295</td>\n",
       "      <td>-558</td>\n",
       "      <td>199</td>\n",
       "      <td>-176</td>\n",
       "      <td>252</td>\n",
       "      <td>...</td>\n",
       "      <td>185</td>\n",
       "      <td>511</td>\n",
       "      <td>-125</td>\n",
       "      <td>389</td>\n",
       "      <td>-37</td>\n",
       "      <td>793</td>\n",
       "      <td>329</td>\n",
       "      <td>36</td>\n",
       "      <td>191</td>\n",
       "      <td>-37</td>\n",
       "    </tr>\n",
       "    <tr>\n",
       "      <th>2</th>\n",
       "      <td>0</td>\n",
       "      <td>-106</td>\n",
       "      <td>-125</td>\n",
       "      <td>-76</td>\n",
       "      <td>168</td>\n",
       "      <td>-230</td>\n",
       "      <td>-284</td>\n",
       "      <td>4</td>\n",
       "      <td>-122</td>\n",
       "      <td>70</td>\n",
       "      <td>...</td>\n",
       "      <td>156</td>\n",
       "      <td>649</td>\n",
       "      <td>57</td>\n",
       "      <td>504</td>\n",
       "      <td>-26</td>\n",
       "      <td>250</td>\n",
       "      <td>314</td>\n",
       "      <td>14</td>\n",
       "      <td>56</td>\n",
       "      <td>-25</td>\n",
       "    </tr>\n",
       "    <tr>\n",
       "      <th>5</th>\n",
       "      <td>0</td>\n",
       "      <td>-67</td>\n",
       "      <td>-93</td>\n",
       "      <td>84</td>\n",
       "      <td>25</td>\n",
       "      <td>-179</td>\n",
       "      <td>-323</td>\n",
       "      <td>-135</td>\n",
       "      <td>-127</td>\n",
       "      <td>-2</td>\n",
       "      <td>...</td>\n",
       "      <td>48</td>\n",
       "      <td>224</td>\n",
       "      <td>60</td>\n",
       "      <td>194</td>\n",
       "      <td>-10</td>\n",
       "      <td>291</td>\n",
       "      <td>41</td>\n",
       "      <td>8</td>\n",
       "      <td>-2</td>\n",
       "      <td>-80</td>\n",
       "    </tr>\n",
       "    <tr>\n",
       "      <th>9</th>\n",
       "      <td>0</td>\n",
       "      <td>-476</td>\n",
       "      <td>-213</td>\n",
       "      <td>-18</td>\n",
       "      <td>301</td>\n",
       "      <td>-403</td>\n",
       "      <td>-394</td>\n",
       "      <td>-42</td>\n",
       "      <td>-144</td>\n",
       "      <td>98</td>\n",
       "      <td>...</td>\n",
       "      <td>241</td>\n",
       "      <td>1214</td>\n",
       "      <td>127</td>\n",
       "      <td>255</td>\n",
       "      <td>50</td>\n",
       "      <td>1701</td>\n",
       "      <td>1108</td>\n",
       "      <td>61</td>\n",
       "      <td>525</td>\n",
       "      <td>-83</td>\n",
       "    </tr>\n",
       "    <tr>\n",
       "      <th>10</th>\n",
       "      <td>0</td>\n",
       "      <td>-81</td>\n",
       "      <td>-150</td>\n",
       "      <td>-119</td>\n",
       "      <td>78</td>\n",
       "      <td>-152</td>\n",
       "      <td>-340</td>\n",
       "      <td>-36</td>\n",
       "      <td>-141</td>\n",
       "      <td>96</td>\n",
       "      <td>...</td>\n",
       "      <td>186</td>\n",
       "      <td>573</td>\n",
       "      <td>-57</td>\n",
       "      <td>694</td>\n",
       "      <td>-19</td>\n",
       "      <td>636</td>\n",
       "      <td>205</td>\n",
       "      <td>17</td>\n",
       "      <td>127</td>\n",
       "      <td>-13</td>\n",
       "    </tr>\n",
       "  </tbody>\n",
       "</table>\n",
       "<p>5 rows × 7130 columns</p>\n",
       "</div>"
      ],
      "text/plain": [
       "    Cancer_type  AFFX-BioB-5_at  AFFX-BioB-M_at  AFFX-BioB-3_at  \\\n",
       "0             0            -214            -153             -58   \n",
       "2             0            -106            -125             -76   \n",
       "5             0             -67             -93              84   \n",
       "9             0            -476            -213             -18   \n",
       "10            0             -81            -150            -119   \n",
       "\n",
       "    AFFX-BioC-5_at  AFFX-BioC-3_at  AFFX-BioDn-5_at  AFFX-BioDn-3_at  \\\n",
       "0               88            -295             -558              199   \n",
       "2              168            -230             -284                4   \n",
       "5               25            -179             -323             -135   \n",
       "9              301            -403             -394              -42   \n",
       "10              78            -152             -340              -36   \n",
       "\n",
       "    AFFX-CreX-5_at  AFFX-CreX-3_at     ...       U48730_at  U58516_at  \\\n",
       "0             -176             252     ...             185        511   \n",
       "2             -122              70     ...             156        649   \n",
       "5             -127              -2     ...              48        224   \n",
       "9             -144              98     ...             241       1214   \n",
       "10            -141              96     ...             186        573   \n",
       "\n",
       "    U73738_at  X06956_at  X16699_at  X83863_at  Z17240_at  L49218_f_at  \\\n",
       "0        -125        389        -37        793        329           36   \n",
       "2          57        504        -26        250        314           14   \n",
       "5          60        194        -10        291         41            8   \n",
       "9         127        255         50       1701       1108           61   \n",
       "10        -57        694        -19        636        205           17   \n",
       "\n",
       "    M71243_f_at  Z78285_f_at  \n",
       "0           191          -37  \n",
       "2            56          -25  \n",
       "5            -2          -80  \n",
       "9           525          -83  \n",
       "10          127          -13  \n",
       "\n",
       "[5 rows x 7130 columns]"
      ]
     },
     "execution_count": 3,
     "metadata": {},
     "output_type": "execute_result"
    }
   ],
   "source": [
    "data_train.head()"
   ]
  },
  {
   "cell_type": "markdown",
   "metadata": {},
   "source": [
    "**1.2:** Take a peek at your training set: you should notice the severe differences in the measurements from one gene to the next (some are negative, some hover around zero, and some are well into the thousands).  To account for these differences in scale and variability, normalize each predictor to vary between 0 and 1.\n"
   ]
  },
  {
   "cell_type": "code",
   "execution_count": 4,
   "metadata": {},
   "outputs": [
    {
     "data": {
      "text/html": [
       "<div>\n",
       "<style scoped>\n",
       "    .dataframe tbody tr th:only-of-type {\n",
       "        vertical-align: middle;\n",
       "    }\n",
       "\n",
       "    .dataframe tbody tr th {\n",
       "        vertical-align: top;\n",
       "    }\n",
       "\n",
       "    .dataframe thead th {\n",
       "        text-align: right;\n",
       "    }\n",
       "</style>\n",
       "<table border=\"1\" class=\"dataframe\">\n",
       "  <thead>\n",
       "    <tr style=\"text-align: right;\">\n",
       "      <th></th>\n",
       "      <th>AFFX-BioB-5_at</th>\n",
       "      <th>AFFX-BioB-M_at</th>\n",
       "      <th>AFFX-BioB-3_at</th>\n",
       "      <th>AFFX-BioC-5_at</th>\n",
       "      <th>AFFX-BioC-3_at</th>\n",
       "      <th>AFFX-BioDn-5_at</th>\n",
       "      <th>AFFX-BioDn-3_at</th>\n",
       "      <th>AFFX-CreX-5_at</th>\n",
       "      <th>AFFX-CreX-3_at</th>\n",
       "      <th>AFFX-BioB-5_st</th>\n",
       "      <th>...</th>\n",
       "      <th>U48730_at</th>\n",
       "      <th>U58516_at</th>\n",
       "      <th>U73738_at</th>\n",
       "      <th>X06956_at</th>\n",
       "      <th>X16699_at</th>\n",
       "      <th>X83863_at</th>\n",
       "      <th>Z17240_at</th>\n",
       "      <th>L49218_f_at</th>\n",
       "      <th>M71243_f_at</th>\n",
       "      <th>Z78285_f_at</th>\n",
       "    </tr>\n",
       "  </thead>\n",
       "  <tbody>\n",
       "    <tr>\n",
       "      <th>0</th>\n",
       "      <td>0.466192</td>\n",
       "      <td>0.739726</td>\n",
       "      <td>0.255814</td>\n",
       "      <td>0.246154</td>\n",
       "      <td>0.433190</td>\n",
       "      <td>0.240418</td>\n",
       "      <td>0.880427</td>\n",
       "      <td>0.625850</td>\n",
       "      <td>0.928074</td>\n",
       "      <td>0.696281</td>\n",
       "      <td>...</td>\n",
       "      <td>0.385445</td>\n",
       "      <td>0.268542</td>\n",
       "      <td>0.398126</td>\n",
       "      <td>0.161897</td>\n",
       "      <td>0.677778</td>\n",
       "      <td>0.323241</td>\n",
       "      <td>0.322609</td>\n",
       "      <td>0.751381</td>\n",
       "      <td>0.069457</td>\n",
       "      <td>0.381720</td>\n",
       "    </tr>\n",
       "    <tr>\n",
       "      <th>2</th>\n",
       "      <td>0.658363</td>\n",
       "      <td>0.794521</td>\n",
       "      <td>0.213953</td>\n",
       "      <td>0.421978</td>\n",
       "      <td>0.573276</td>\n",
       "      <td>0.717770</td>\n",
       "      <td>0.741637</td>\n",
       "      <td>0.748299</td>\n",
       "      <td>0.505800</td>\n",
       "      <td>0.743802</td>\n",
       "      <td>...</td>\n",
       "      <td>0.307278</td>\n",
       "      <td>0.356777</td>\n",
       "      <td>0.824356</td>\n",
       "      <td>0.206978</td>\n",
       "      <td>0.718519</td>\n",
       "      <td>0.081478</td>\n",
       "      <td>0.309565</td>\n",
       "      <td>0.629834</td>\n",
       "      <td>0.027597</td>\n",
       "      <td>0.446237</td>\n",
       "    </tr>\n",
       "    <tr>\n",
       "      <th>5</th>\n",
       "      <td>0.727758</td>\n",
       "      <td>0.857143</td>\n",
       "      <td>0.586047</td>\n",
       "      <td>0.107692</td>\n",
       "      <td>0.683190</td>\n",
       "      <td>0.649826</td>\n",
       "      <td>0.642705</td>\n",
       "      <td>0.736961</td>\n",
       "      <td>0.338747</td>\n",
       "      <td>0.415289</td>\n",
       "      <td>...</td>\n",
       "      <td>0.016173</td>\n",
       "      <td>0.085038</td>\n",
       "      <td>0.831382</td>\n",
       "      <td>0.085457</td>\n",
       "      <td>0.777778</td>\n",
       "      <td>0.099733</td>\n",
       "      <td>0.072174</td>\n",
       "      <td>0.596685</td>\n",
       "      <td>0.009612</td>\n",
       "      <td>0.150538</td>\n",
       "    </tr>\n",
       "    <tr>\n",
       "      <th>9</th>\n",
       "      <td>0.000000</td>\n",
       "      <td>0.622309</td>\n",
       "      <td>0.348837</td>\n",
       "      <td>0.714286</td>\n",
       "      <td>0.200431</td>\n",
       "      <td>0.526132</td>\n",
       "      <td>0.708897</td>\n",
       "      <td>0.698413</td>\n",
       "      <td>0.570766</td>\n",
       "      <td>0.662190</td>\n",
       "      <td>...</td>\n",
       "      <td>0.536388</td>\n",
       "      <td>0.718031</td>\n",
       "      <td>0.988290</td>\n",
       "      <td>0.109369</td>\n",
       "      <td>1.000000</td>\n",
       "      <td>0.727516</td>\n",
       "      <td>1.000000</td>\n",
       "      <td>0.889503</td>\n",
       "      <td>0.173023</td>\n",
       "      <td>0.134409</td>\n",
       "    </tr>\n",
       "    <tr>\n",
       "      <th>10</th>\n",
       "      <td>0.702847</td>\n",
       "      <td>0.745597</td>\n",
       "      <td>0.113953</td>\n",
       "      <td>0.224176</td>\n",
       "      <td>0.741379</td>\n",
       "      <td>0.620209</td>\n",
       "      <td>0.713167</td>\n",
       "      <td>0.705215</td>\n",
       "      <td>0.566125</td>\n",
       "      <td>0.426653</td>\n",
       "      <td>...</td>\n",
       "      <td>0.388140</td>\n",
       "      <td>0.308184</td>\n",
       "      <td>0.557377</td>\n",
       "      <td>0.281458</td>\n",
       "      <td>0.744444</td>\n",
       "      <td>0.253339</td>\n",
       "      <td>0.214783</td>\n",
       "      <td>0.646409</td>\n",
       "      <td>0.049612</td>\n",
       "      <td>0.510753</td>\n",
       "    </tr>\n",
       "  </tbody>\n",
       "</table>\n",
       "<p>5 rows × 7129 columns</p>\n",
       "</div>"
      ],
      "text/plain": [
       "    AFFX-BioB-5_at  AFFX-BioB-M_at  AFFX-BioB-3_at  AFFX-BioC-5_at  \\\n",
       "0         0.466192        0.739726        0.255814        0.246154   \n",
       "2         0.658363        0.794521        0.213953        0.421978   \n",
       "5         0.727758        0.857143        0.586047        0.107692   \n",
       "9         0.000000        0.622309        0.348837        0.714286   \n",
       "10        0.702847        0.745597        0.113953        0.224176   \n",
       "\n",
       "    AFFX-BioC-3_at  AFFX-BioDn-5_at  AFFX-BioDn-3_at  AFFX-CreX-5_at  \\\n",
       "0         0.433190         0.240418         0.880427        0.625850   \n",
       "2         0.573276         0.717770         0.741637        0.748299   \n",
       "5         0.683190         0.649826         0.642705        0.736961   \n",
       "9         0.200431         0.526132         0.708897        0.698413   \n",
       "10        0.741379         0.620209         0.713167        0.705215   \n",
       "\n",
       "    AFFX-CreX-3_at  AFFX-BioB-5_st     ...       U48730_at  U58516_at  \\\n",
       "0         0.928074        0.696281     ...        0.385445   0.268542   \n",
       "2         0.505800        0.743802     ...        0.307278   0.356777   \n",
       "5         0.338747        0.415289     ...        0.016173   0.085038   \n",
       "9         0.570766        0.662190     ...        0.536388   0.718031   \n",
       "10        0.566125        0.426653     ...        0.388140   0.308184   \n",
       "\n",
       "    U73738_at  X06956_at  X16699_at  X83863_at  Z17240_at  L49218_f_at  \\\n",
       "0    0.398126   0.161897   0.677778   0.323241   0.322609     0.751381   \n",
       "2    0.824356   0.206978   0.718519   0.081478   0.309565     0.629834   \n",
       "5    0.831382   0.085457   0.777778   0.099733   0.072174     0.596685   \n",
       "9    0.988290   0.109369   1.000000   0.727516   1.000000     0.889503   \n",
       "10   0.557377   0.281458   0.744444   0.253339   0.214783     0.646409   \n",
       "\n",
       "    M71243_f_at  Z78285_f_at  \n",
       "0      0.069457     0.381720  \n",
       "2      0.027597     0.446237  \n",
       "5      0.009612     0.150538  \n",
       "9      0.173023     0.134409  \n",
       "10     0.049612     0.510753  \n",
       "\n",
       "[5 rows x 7129 columns]"
      ]
     },
     "execution_count": 4,
     "metadata": {},
     "output_type": "execute_result"
    }
   ],
   "source": [
    "# Look at training set\n",
    "data_train.head()\n",
    "\n",
    "# Create a normalize function\n",
    "def normalize(df: pd.DataFrame) -> pd.DataFrame:\n",
    "    \"\"\" Normalizes all columns in a DataFrame to vary between 0 and 1.\n",
    "    \n",
    "    Params:\n",
    "        df -> the pandas DataFrame to be normalized.\n",
    "    \n",
    "    Returns:\n",
    "        returns the normalized DataFrame.\n",
    "        \"\"\"\n",
    "    # Create a copy of the dataframe\n",
    "    df_normal = df.copy()\n",
    "    \n",
    "    return (df_normal - df_normal.min()) / (df_normal.max() - df_normal.min())\n",
    "    \n",
    "# Normalize the predictors between 0 and 1\n",
    "X_train_normal = X_train.copy()\n",
    "X_train_normal = normalize(X_train_normal)\n",
    "\n",
    "X_train_normal.head()"
   ]
  },
  {
   "cell_type": "markdown",
   "metadata": {},
   "source": [
    "**1.3:** Notice that the results training set contains more predictors than observations. Do you foresee a problem in fitting a classification model to such a data set?\n"
   ]
  },
  {
   "cell_type": "markdown",
   "metadata": {},
   "source": [
    "----\n",
    "With more predictors than observations, the classification model will be overfitted to the dataset.  One predictor can account for each observation and lead to a training R^2 of 1, incorrectly fitting to error epsilon.\n",
    "\n",
    "----"
   ]
  },
  {
   "cell_type": "markdown",
   "metadata": {},
   "source": [
    "**1.4:** Lets explore a few of the genes and see how well they discriminate between cancer classes. Create a single figure with four subplots arranged in a 2x2 grid. Consider the following four genes: `D29963_at`, `M23161_at`, `hum_alu_at`, and `AFFX-PheX-5_at`. For each gene overlay two histograms of the gene expression values on one of the subplots, one histogram for each cancer type. Does it appear that any of these genes discriminate between the two classes well? How are you able to tell?"
   ]
  },
  {
   "cell_type": "code",
   "execution_count": 5,
   "metadata": {},
   "outputs": [
    {
     "data": {
      "image/png": "[encoded data removed]",
      "text/plain": [
       "<Figure size 1080x648 with 4 Axes>"
      ]
     },
     "metadata": {},
     "output_type": "display_data"
    }
   ],
   "source": [
    "# initialize figure\n",
    "fig, ax = plt.subplots(2,2, figsize=(15,9))\n",
    "\n",
    "# For each gene create a subplot\n",
    "for index, gene in enumerate([\"D29963_at\", \"M23161_at\", \"hum_alu_at\", \"AFFX-PheX-5_at\"]):\n",
    "    # Initialize row, col\n",
    "    row= int(index / 2)\n",
    "    col = index % 2\n",
    "    \n",
    "    # Plot the histogram of the gene expression values on AML cancer type\n",
    "    ax[int(index / 2)][index % 2].hist(X_train_normal[y_train == 1][gene], label=\"AML\")\n",
    "    \n",
    "    # Plot the histogram of the gene expression values on ALL cancer type\n",
    "    ax[int(index / 2)][index % 2].hist(X_train_normal[y_train == 0][gene], alpha=0.5, label=\"ALL\")\n",
    "    \n",
    "    # Labels\n",
    "    ax[row][col].legend()\n",
    "    ax[row][col].set_title(\"Distribution of Gene {0} Expression\".format(gene))\n",
    "    ax[row][col].set_xlabel(\"Expression level\")\n",
    "    ax[row][col].set_ylabel(\"Frequency\")\n",
    "\n",
    "# Set suptitle\n",
    "plt.suptitle(\"Distribution of Gene Expressions for AML and ALL Cancer\", fontweight=\"bold\");"
   ]
  },
  {
   "cell_type": "markdown",
   "metadata": {},
   "source": [
    "----\n",
    "**Gene D22963_at and hum_alu_at discriminates between the two types of cancer the best, as the medians of gene expression appear to differ significantly between the two types of cancer, and there is less overlap between the two distributions.  For the other two genes, the centers and spread for the two types of cancer are both similar.**\n"
   ]
  },
  {
   "cell_type": "markdown",
   "metadata": {},
   "source": [
    "**1.5:** Since our data has dimensions that are not easily visualizable, we want to reduce the dimensionality of the data to make it easier to visualize. Using PCA, find the top two principal components for the gene expression data. Generate a scatter plot using these principal components, highlighting the two cancer types in different colors. How well do the top two principal components discriminate between the two classes? How much of the variance within the data do these two principal components explain?"
   ]
  },
  {
   "cell_type": "code",
   "execution_count": 6,
   "metadata": {},
   "outputs": [
    {
     "data": {
      "image/png": "[encoded data removed]",
      "text/plain": [
       "<Figure size 720x432 with 1 Axes>"
      ]
     },
     "metadata": {},
     "output_type": "display_data"
    }
   ],
   "source": [
    "# Initialize normalized test data\n",
    "X_test_normal = normalize(X_test)\n",
    "\n",
    "# Find the top two principal components for the training data\n",
    "pca_transformer = PCA(2).fit(X_train_normal)\n",
    "X_train_2d = pca_transformer.transform(X_train_normal)\n",
    "\n",
    "# Initialize figure and subplots\n",
    "fig, ax = plt.subplots(1,1, figsize=(10,6))\n",
    "\n",
    "# Plot the data for each type of cancer\n",
    "for index, type_Cancer in enumerate([\"ALL\",\"AML\"]):\n",
    "    cur_df = X_train_2d[y_train==index]\n",
    "    ax.scatter(cur_df[:,0], cur_df[:,1], label = type_Cancer)\n",
    "\n",
    "# Add Labels\n",
    "ax.set_ylabel(\"PC Dimension 2\")\n",
    "ax.set_xlabel(\"PC Dimension 1\")\n",
    "ax.set_title(\"Cancer Types Distribution with PCA 2\")\n",
    "ax.legend();"
   ]
  },
  {
   "cell_type": "code",
   "execution_count": 7,
   "metadata": {},
   "outputs": [
    {
     "name": "stdout",
     "output_type": "stream",
     "text": [
      "\u001b[1mVariance explained by each PCA component:\u001b[0m [0.15889035 0.11428795]\n",
      "\u001b[1mTotal Variance Explained:\u001b[0m 0.2731782945208865\n",
      "\n",
      "By visual demonstration, the top two principal components differentiate between the cancer types to a significant degree.\n",
      "ALL resides in the upper portion of the plot, while AML resides more in the lower portion.\n"
     ]
    }
   ],
   "source": [
    "# Store explained variance\n",
    "var_explained = pca_transformer.explained_variance_ratio_\n",
    "\n",
    "# Print results\n",
    "print(\"\\033[1mVariance explained by each PCA component:\\033[0m\", var_explained)\n",
    "print(\"\\033[1mTotal Variance Explained:\\033[0m\", np.sum(var_explained))\n",
    "print(\"\\nBy visual demonstration, the top two principal components differentiate between the cancer types to a significant degree.\\nALL resides in the upper portion of the plot, while AML resides more in the lower portion.\")"
   ]
  },
  {
   "cell_type": "markdown",
   "metadata": {},
   "source": [
    "## Question 2: Linear Regression vs. Logistic Regression\n",
    "\n",
    "In class we discussed how to use both linear regression and logistic regression for classification. For this question, you will work with a single gene predictor, `D29963_at`, to explore these two methods.\n",
    "\n",
    "1. Fit a simple linear regression model to the training set using the single gene predictor `D29963_at`. We could interpret the scores predicted by the regression model interpreted for a patient as an estimate of the probability that the patient has `Cancer_type`=1. Is there a problem with this interpretation?\n",
    "\n",
    "2. The fitted linear regression model can be converted to a classification model (i.e. a model that predicts one of two binary labels 0 or 1) by classifying patients with predicted score greater than 0.5 into `Cancer_type`=1, and the others into the `Cancer_type`=0. Evaluate the classification accuracy (1 - misclassification rate) of the obtained classification model on both the training and test sets.\n",
    "\n",
    "3. Next, fit a simple logistic regression model to the training set. How do the training and test classification accuracies of this model compare with the linear regression model? Remember, you need to set the regularization parameter for sklearn's logistic regression function to be a very large value in order to not regularize (use 'C=100000').\n",
    "\n",
    "4. Plot the quantitative output from the linear regression model and the probabilistic output from the logistic regression model (on the training set points) as a function of the gene predictor. Also, display the true binary response for the training set points in the same plot. Based on these plots, does one of the models appear better suited for binary classification than the other? Explain."
   ]
  },
  {
   "cell_type": "markdown",
   "metadata": {},
   "source": [
    "#### Answers: \n",
    "\n",
    "**2.1:** Fit a simple linear regression model to the training set using the single gene predictor `D29963_at`. We could interpret the scores predicted by the regression model interpreted for a patient as an estimate of the probability that the patient has `Cancer_type`=1. Is there a problem with this interpretation?\n"
   ]
  },
  {
   "cell_type": "code",
   "execution_count": 8,
   "metadata": {},
   "outputs": [],
   "source": [
    "# Fit a simple linear model to the training data\n",
    "simple_linear_model = OLS(y_train, sm.add_constant(X_train_normal['D29963_at']))\n",
    "fitted_model = simple_linear_model.fit()\n",
    "\n",
    "# Store the predictions\n",
    "predictions_test = fitted_model.predict(sm.add_constant(X_test_normal['D29963_at']))"
   ]
  },
  {
   "cell_type": "markdown",
   "metadata": {},
   "source": [
    "----\n",
    "\n",
    "\n",
    "**There is definitely a problem with this interpretation.  The Linear Model predictions are comtinious and numerical with no bound, so there are negative predictions and predictions greater than one.  The values are not probabilities.**\n",
    "\n",
    "----\n"
   ]
  },
  {
   "cell_type": "markdown",
   "metadata": {},
   "source": [
    "**2.2:** The fitted linear regression model can be converted to a classification model (i.e. a model that predicts one of two binary labels 0 or 1) by classifying patients with predicted score greater than 0.5 into `Cancer_type`=1, and the others into the `Cancer_type`=0. Evaluate the classification accuracy (1 - misclassification rate) of the obtained classification model on both the training and test sets.\n"
   ]
  },
  {
   "cell_type": "code",
   "execution_count": 9,
   "metadata": {
    "scrolled": false
   },
   "outputs": [
    {
     "name": "stdout",
     "output_type": "stream",
     "text": [
      "\u001b[1mAccuracy Scores\u001b[0m\n",
      "\u001b[1mTraining:\u001b[0m 0.8\n",
      "\u001b[1mTest:\u001b[0m  0.7879\n"
     ]
    }
   ],
   "source": [
    "# Calculate Predictions\n",
    "predictions_train = fitted_model.predict(sm.add_constant(X_train_normal['D29963_at']))\n",
    "sm_binary_predictions_train = predictions_train >= .5\n",
    "# Note: test predictions have already been stored\n",
    "sm_binary_predictions_test  = predictions_test >= .5\n",
    "\n",
    "# Print the accuracy scores:\n",
    "print(\"\\033[1mAccuracy Scores\\033[0m\")\n",
    "print(\"\\033[1mTraining:\\033[0m {0}\".format(accuracy_score(y_train, sm_binary_predictions_train)))\n",
    "print(\"\\033[1mTest:\\033[0m {0: .4f}\".format(accuracy_score(y_test, sm_binary_predictions_test)))"
   ]
  },
  {
   "cell_type": "markdown",
   "metadata": {},
   "source": [
    "**2.3**\n",
    "Next, fit a simple logistic regression model to the training set. How do the training and test classification accuracies of this model compare with the linear regression model? Remember, you need to set the regularization parameter for sklearn's logistic regression function to be a very large value in order to not regularize (use 'C=100000')."
   ]
  },
  {
   "cell_type": "code",
   "execution_count": 10,
   "metadata": {},
   "outputs": [
    {
     "name": "stdout",
     "output_type": "stream",
     "text": [
      "\u001b[1mAccuracy Scores\u001b[0m\n",
      "\u001b[1mTraining:\u001b[0m  0.800\n",
      "\u001b[1mTest:\u001b[0m  0.697\n"
     ]
    }
   ],
   "source": [
    "# Fit the Logistic Regression Model to the training set\n",
    "fitted_lr = LogisticRegression(C=100000, solver='newton-cg', max_iter=250).fit(X_train_normal['D29963_at'].values.reshape(-1,1),y_train)\n",
    "\n",
    "# Store the predictions\n",
    "lr_predictions_train = fitted_lr.predict(X_train_normal['D29963_at'].values.reshape(-1,1))\n",
    "lr_predictions_test = fitted_lr.predict(X_test_normal['D29963_at'].values.reshape(-1,1))\n",
    "\n",
    "# Print the accuracy scores:\n",
    "print(\"\\033[1mAccuracy Scores\\033[0m\")\n",
    "print(\"\\033[1mTraining:\\033[0m {0: .3f}\".format(accuracy_score(y_train, lr_predictions_train)))\n",
    "print(\"\\033[1mTest:\\033[0m {0: .3f}\".format(accuracy_score(y_test, lr_predictions_test)))"
   ]
  },
  {
   "cell_type": "markdown",
   "metadata": {},
   "source": [
    "----\n",
    "Compared to the linear regression model, the logistic regression model performs the same in comparison for training but scores are worse for the test data. \n",
    "\n",
    "----\n"
   ]
  },
  {
   "cell_type": "markdown",
   "metadata": {},
   "source": [
    "**2.4:** Plot the quantitative output from the linear regression model and the probabilistic output from the logistic regression model (on the training set points) as a function of the gene predictor. Also, display the true binary response for the training set points in the same plot. Based on these plots, does one of the models appear better suited for binary classification than the other? Explain."
   ]
  },
  {
   "cell_type": "code",
   "execution_count": 11,
   "metadata": {},
   "outputs": [],
   "source": [
    "# Store the probabilistic output from the logistic regression model\n",
    "probs = fitted_lr.predict_proba(X_train_normal['D29963_at'].values.reshape(-1,1))"
   ]
  },
  {
   "cell_type": "code",
   "execution_count": 12,
   "metadata": {},
   "outputs": [
    {
     "data": {
      "image/png": "[encoded data removed]",
      "text/plain": [
       "<Figure size 720x720 with 1 Axes>"
      ]
     },
     "metadata": {},
     "output_type": "display_data"
    }
   ],
   "source": [
    "# Initialize figure and subplot\n",
    "fig, ax = plt.subplots(1,1, figsize = (10,10))\n",
    "\n",
    "# Plot the Observed values on the scatter plot\n",
    "ax.scatter(X_train_normal['D29963_at'], y_train, label = 'observed values')\n",
    "\n",
    "# Probability of beng classified as 1\n",
    "probs_1 = []\n",
    "for i in range(len(probs)):\n",
    "    probs_1.append(probs[i][1])\n",
    "\n",
    "# Plot predictions for the two models\n",
    "ax.scatter(X_train_normal['D29963_at'], probs_1, label = 'logistic model predictions', alpha = 0.75)\n",
    "ax.scatter(X_train_normal['D29963_at'], predictions_train, label = 'linear model predictions', alpha = 0.5)\n",
    "\n",
    "# Add Labels\n",
    "ax.set_xlabel(\"D29963_at Expression\")\n",
    "ax.set_ylabel(\"Output\")\n",
    "ax.set_title(\"Linear Regression vs Logistic Regression Model\", fontweight=\"bold\")\n",
    "ax.legend();\n"
   ]
  },
  {
   "cell_type": "markdown",
   "metadata": {},
   "source": [
    "----\n",
    "Logistic regression appear to be better suited for binary classification than linear regression, as it lies in the same range of y-values [0,1] as the observed values and the curved shape appears to display a more binary nature than that of the linear model.\n",
    "\n",
    "----"
   ]
  },
  {
   "cell_type": "markdown",
   "metadata": {},
   "source": [
    "## Question 3: Multiple Logistic Regression\n",
    "\n",
    "1. Next, fit a multiple logistic regression model with all the gene predictors from the data set.  How does the classification accuracy of this model compare with the models fitted in question 2 with a single gene (on both the training and test sets)?  \n",
    "\n",
    "2. Use the `visualize_prob` function provided below to visualize the probabilties predicted by the fitted multiple logistic regression model on both the training and test data sets. The function creates a visualization that places the data points on a vertical line based on the predicted probabilities, with the different cancer classes shown in different colors, and with the 0.5 threshold highlighted using a dotted horizontal line. Is there a difference in the spread of probabilities in the training and test plots? Are there data points for which the predicted probability is close to 0.5? If so, what can you say about these points?"
   ]
  },
  {
   "cell_type": "code",
   "execution_count": 13,
   "metadata": {},
   "outputs": [],
   "source": [
    "#--------  visualize_prob\n",
    "# A function to visualize the probabilities predicted by a Logistic Regression model\n",
    "# Input: \n",
    "#      model (Logistic regression model)\n",
    "#      x (n x d array of predictors in training data)\n",
    "#      y (n x 1 array of response variable vals in training data: 0 or 1)\n",
    "#      ax (an axis object to generate the plot)\n",
    "\n",
    "def visualize_prob(model, x, y, ax):\n",
    "    # Use the model to predict probabilities for\n",
    "    y_pred = model.predict_proba(x)\n",
    "    \n",
    "    # Separate the predictions on the label 1 and label 0 points\n",
    "    ypos = y_pred[y==1]\n",
    "    yneg = y_pred[y==0]\n",
    "    \n",
    "    # Count the number of label 1 and label 0 points\n",
    "    npos = ypos.shape[0]\n",
    "    nneg = yneg.shape[0]\n",
    "    \n",
    "    # Plot the probabilities on a vertical line at x = 0, \n",
    "    # with the positive points in blue and negative points in red\n",
    "    pos_handle = ax.plot(np.zeros((npos,1)), ypos[:,1], 'bo', label = 'Cancer Type 1')\n",
    "    neg_handle = ax.plot(np.zeros((nneg,1)), yneg[:,1], 'ro', label = 'Cancer Type 0')\n",
    "\n",
    "    # Line to mark prob 0.5\n",
    "    ax.axhline(y = 0.5, color = 'k', linestyle = '--')\n",
    "    \n",
    "    # Add y-label and legend, do not display x-axis, set y-axis limit\n",
    "    ax.set_ylabel('Probability of AML class')\n",
    "    ax.legend(loc = 'best')\n",
    "    ax.get_xaxis().set_visible(False)\n",
    "    ax.set_ylim([0,1])"
   ]
  },
  {
   "cell_type": "markdown",
   "metadata": {},
   "source": [
    "#### Answers \n",
    "**3.1:** Next, fit a multiple logistic regression model with all the gene predictors from the data set.  How does the classification accuracy of this model compare with the models fitted in question 2 with a single gene (on both the training and test sets)?  "
   ]
  },
  {
   "cell_type": "code",
   "execution_count": 14,
   "metadata": {},
   "outputs": [
    {
     "name": "stdout",
     "output_type": "stream",
     "text": [
      "\u001b[1mAccuracy Scores\u001b[0m\n",
      "\u001b[1mTraining:\u001b[0m  1.000\n",
      "\u001b[1mTest:\u001b[0m  0.970\n"
     ]
    }
   ],
   "source": [
    "# Fit the multiple logistic regression model to the training data\n",
    "fitted_multiple_lr = LogisticRegression(C=100000, solver='newton-cg', max_iter=250).fit(X_train_normal,y_train)\n",
    "\n",
    "# Store the predictions\n",
    "mlr_predictions_train = fitted_multiple_lr.predict(X_train_normal)\n",
    "mlr_predictions_test = fitted_multiple_lr.predict(X_test_normal)\n",
    "\n",
    "\n",
    "# Print the accuracy scores:\n",
    "print(\"\\033[1mAccuracy Scores\\033[0m\")\n",
    "print(\"\\033[1mTraining:\\033[0m {0: .3f}\".format(accuracy_score(y_train, mlr_predictions_train)))\n",
    "print(\"\\033[1mTest:\\033[0m {0: .3f}\".format(accuracy_score(y_test, mlr_predictions_test)))"
   ]
  },
  {
   "cell_type": "markdown",
   "metadata": {},
   "source": [
    "----\n",
    "The classification accuracy is much higher. The model fits perfectly on the training set and has a higher score on test compared to the modesl fitted in question 2. \n",
    "\n",
    "----"
   ]
  },
  {
   "cell_type": "markdown",
   "metadata": {},
   "source": [
    "**3.2:** Use the `visualize_prob` function provided below to visualize the probabilties predicted by the fitted multiple logistic regression model on both the training and test data sets. The function creates a visualization that places the data points on a vertical line based on the predicted probabilities, with the different cancer classes shown in different colors, and with the 0.5 threshold highlighted using a dotted horizontal line. Is there a difference in the spread of probabilities in the training and test plots? Are there data points for which the predicted probability is close to 0.5? If so, what can you say about these points?"
   ]
  },
  {
   "cell_type": "code",
   "execution_count": 15,
   "metadata": {},
   "outputs": [
    {
     "data": {
      "image/png": "[encoded data removed]",
      "text/plain": [
       "<Figure size 1296x720 with 2 Axes>"
      ]
     },
     "metadata": {},
     "output_type": "display_data"
    }
   ],
   "source": [
    "# Initialize figure and subplots\n",
    "fig, ax = plt.subplots(1,2,figsize = (18,10))\n",
    "\n",
    "# Plot the visualized probabilities\n",
    "visualize_prob(fitted_multiple_lr, X_train_normal, y_train, ax[0])\n",
    "visualize_prob(fitted_multiple_lr, X_test_normal, y_test, ax[1]);\n",
    "\n",
    "# Add labels\n",
    "ax[0].set_title(\"Training\")\n",
    "ax[1].set_title(\"Test\")\n",
    "\n",
    "fig.suptitle(\"Probabilities Predicted By the Logistic Regression Model\", fontweight=\"bold\");"
   ]
  },
  {
   "cell_type": "markdown",
   "metadata": {},
   "source": [
    "----\n",
    "\n",
    "There is a difference in the spread.  The training set is focused around probabilities of 1 and 0, while the test set has more of a spread points that span 0.2 on each side of the 0.5 horizontal line. One of the data points closer to 0.5 (located at ~0.83) is incorrectly predicted. The model appears to be overfitted on the training data.\n",
    "\n",
    "----"
   ]
  },
  {
   "cell_type": "markdown",
   "metadata": {},
   "source": [
    "## Question 4: Analyzing Significance of Coefficients\n",
    "\n",
    "How many of the coefficients estimated by the multiple logistic regression in the previous problem are significantly different from zero at a *significance level of 95%*? \n",
    "\n",
    "Hint: To answer this question, use *bootstrapping* with 1000 boostrap samples/iterations.  "
   ]
  },
  {
   "cell_type": "markdown",
   "metadata": {},
   "source": [
    "#### Answer:"
   ]
  },
  {
   "cell_type": "code",
   "execution_count": 16,
   "metadata": {},
   "outputs": [
    {
     "name": "stdout",
     "output_type": "stream",
     "text": [
      "\u001b[1mNumber of Significant Predictors:\u001b[0m\n",
      "1931\n"
     ]
    }
   ],
   "source": [
    "## accepts dataset inputs as numpy arrays\n",
    "def make_bootstrap_sample(dataset_X, dataset_y, size = None):\n",
    "    \"\"\"Returns a bootstrap sample of the given data and size\n",
    "    \n",
    "    Args:\n",
    "        dataset_X: the Pandas dataframe of feature variables and values\n",
    "        dataset_y: the column vector of response values\n",
    "        size: the size of the Bootstrap sample with None as the default\n",
    "    \n",
    "    Returns:\n",
    "        Returns a tuple containing a dataframe containing the Bootstrap X-values and a list of Bootstrap y-values\n",
    "    \"\"\"\n",
    "    \n",
    "    # by default return a bootstrap sample of the same size as the original dataset\n",
    "    if not size: size = len(dataset_X)\n",
    "    \n",
    "    # if the X and y datasets aren't the same size, raise an exception\n",
    "    if len(dataset_X) != len(dataset_y):\n",
    "        raise Exception(\"Data size must match between dataset_X and dataset_y\")\n",
    "    \n",
    "    # Store an ndarray of random indices\n",
    "    inds_to_sample = np.random.choice(dataset_X.shape[0], size, replace = True)\n",
    "    \n",
    "    # Store the observations located at these indices in the Dataframe as the bootstrap sample data\n",
    "    bootstrap_dataset_X = dataset_X.iloc[inds_to_sample]\n",
    "    bootstrap_dataset_y = dataset_y[inds_to_sample]\n",
    "    \n",
    "    # return as a tuple the bootstrap samples of dataset_X as a pandas dataframe\n",
    "    # and the bootstrap samples of dataset y as a numpy column vector\n",
    "    return (bootstrap_dataset_X, bootstrap_dataset_y)\n",
    "\n",
    "def calculate_coefficients(dataset_X, dataset_y, model):\n",
    "    \"\"\"Returns the Beta-coefficients of the given data fitted to the given model\n",
    "    \n",
    "    Args:\n",
    "        dataset_X: the Pandas dataframe of feature variables and values\n",
    "        dataset_y: the column vector of response values\n",
    "        model: the model object to be fitted with the given data\n",
    "    \n",
    "    Returns:\n",
    "        coefficients_dictionary: a dictionary containing the feature names as keys and the\n",
    "        coefficients as values.\"\"\"\n",
    "    \n",
    "    # Fit the data to the given model parameter\n",
    "    model.fit(dataset_X, dataset_y)\n",
    "    \n",
    "    # Initalize dictionary of coefficents\n",
    "    coefficients_dictionary = {}\n",
    "    \n",
    "    # Iterate through dataset coefficients and store them in the dictionary\n",
    "    # Since the response variable is binary, just access the first (and only) element in the tuple\n",
    "    for index, val in enumerate(model.coef_[0]):\n",
    "        coefficients_dictionary[dataset_X.columns[index]] = val\n",
    "    \n",
    "    # return coefficients  in the variable  coefficients_dictionary as a dictionary\n",
    "    # with the key being the name of the feature as a string\n",
    "    # the value being the value of the coefficients\n",
    "    # do not return the intercept as part of this\n",
    "    return coefficients_dictionary\n",
    "\n",
    "def get_significant_predictors(regression_coefficients, significance_level):\n",
    "    \"\"\"Returns the significant predictors from a model\n",
    "    \n",
    "    Args:\n",
    "        regression_coefficients: a list of dictionaries containing the regression coefficients\n",
    "        of models made from different samples\n",
    "        significance_level: the alpha-level used to determine feature significance\n",
    "    \n",
    "    Returns:\n",
    "        significant_coefficients: a list of the significant feature names\n",
    "        \"\"\"\n",
    "        \n",
    "    # initialize a DataFrame to contain a list of the column names \n",
    "    coefficient_values = pd.DataFrame(index=list(regression_coefficients[0].keys()))\n",
    "    \n",
    "    # Store all of the values from each bootstrap sample in a column\n",
    "    for row, cur_sample in enumerate(regression_coefficients):\n",
    "        coefficient_values[row] = cur_sample.values()\n",
    "        \n",
    "    # Transpose the DataFrame so that each row now represents one Bootstrap sample\n",
    "    coefficient_values = coefficient_values.T\n",
    "    \n",
    "    # Initialize significant_coefficients to an empty list\n",
    "    significant_coefficients = []\n",
    "    \n",
    "    # Store the upper and lower percentile bounds\n",
    "    lower_bound = significance_level/2 * 100\n",
    "    upper_bound = 100 - lower_bound\n",
    "    \n",
    "    # Iterate through all of coefficient_values and determine which coefficients are significant\n",
    "    for index_column, col in enumerate(coefficient_values): \n",
    "        if not(((np.percentile(coefficient_values[col], lower_bound ) < 0)) & ((np.percentile(coefficient_values[col], upper_bound) > 0))):\n",
    "            significant_coefficients.append(coefficient_values.columns[index_column])\n",
    "    \n",
    "    # return significant_coefficients\n",
    "    return significant_coefficients\n",
    "\n",
    "# Initialize the list of coefficients\n",
    "boot_coefs = [np.nan]*1000\n",
    "\n",
    "# Create 1000 Bootstrap samples\n",
    "for i in range(1000):\n",
    "    boot_x, boot_y = make_bootstrap_sample(X_train_normal, y_train.values)\n",
    "    boot_coefs[i] = calculate_coefficients(boot_x, boot_y, LogisticRegression(C=100000, solver='newton-cg', max_iter=250))\n",
    "\n",
    "# Store the significant predictors\n",
    "CancerLog_significant_bootstrap = get_significant_predictors(boot_coefs, 0.05)\n",
    "\n",
    "# Print the significant predictors\n",
    "print(\"\\033[1mNumber of Significant Predictors:\\033[0m\\n{0}\".format(len(CancerLog_significant_bootstrap)))"
   ]
  },
  {
   "cell_type": "markdown",
   "metadata": {},
   "source": [
    "## Question 5: High Dimensionality\n",
    "\n",
    "One of the issues you may run into when dealing with high dimensional data is that your 2D and 3D intuition may fail breakdown. For example, distance metrics in high dimensions can have properties that may feel counterintuitive.\n",
    "\n",
    "Consider the following: You have a hypersphere with a radius of $1$, inside of a hypercube centered at $0$, with edges of length $2$.\n",
    "\n",
    "1. As a function of $d$, the number of dimensions, how much of the hypercube's volume is contained within the hypersphere?\n",
    "2. What happens as $d$ gets very large?\n",
    "3. Using the functions provided below, create a plot of how the volume ratio changes as a function of $d$.\n",
    "4. What does this tell you about where the majority of the volume of the hypercube resides in higher dimensions? \n",
    "\n",
    "*HINTS:* \n",
    "- The volume of a hypercube with edges of length $2$ is $V_c(d) = 2^d$.\n",
    "- The volume of a hyperphere with a radius of $1$ is $V_s(d) = \\frac{\\pi^{\\frac{d}{2}}} {\\Gamma(\\frac{d}{2}+1)}$, where $\\Gamma$ is Euler's Gamma Function.\n",
    "- $\\Gamma$ is increasing for all $d \\geq 1$."
   ]
  },
  {
   "cell_type": "code",
   "execution_count": 17,
   "metadata": {},
   "outputs": [],
   "source": [
    "def V_c(d):\n",
    "    \"\"\"\n",
    "    Calculate the volume of a hypercube of dimension d.\n",
    "    \"\"\"\n",
    "    return 2**d\n",
    "\n",
    "def V_s(d):\n",
    "    \"\"\"\n",
    "    Calculate the volume of a hypersphere of dimension d.\n",
    "    \"\"\"\n",
    "    return math.pi**(d/2)/gamma((d/2)+1)  "
   ]
  },
  {
   "cell_type": "markdown",
   "metadata": {},
   "source": [
    "#### Answers:"
   ]
  },
  {
   "cell_type": "markdown",
   "metadata": {},
   "source": [
    "1). **$\\frac{\\pi^{\\frac{d}{2}}} {\\Gamma(\\frac{d}{2}+1) * {2^d}}$ of the hypercube's volume is contained within the hypersphere.**\n",
    "\n",
    "2). **As d gets very large, the proportion of the hypercube's volume contained within the hypersphere decreases and approaches 0.**"
   ]
  },
  {
   "cell_type": "code",
   "execution_count": 18,
   "metadata": {},
   "outputs": [
    {
     "data": {
      "image/png": "[encoded data removed]",
      "text/plain": [
       "<Figure size 720x432 with 1 Axes>"
      ]
     },
     "metadata": {},
     "output_type": "display_data"
    }
   ],
   "source": [
    "# 3).\n",
    "\n",
    "# Initialize figure and subplot\n",
    "fig, ax = plt.subplots(1,1, figsize=(10,6))\n",
    "\n",
    "# Initialize number of dimensions to plot and the lists of dimensions and volumes\n",
    "max_dimensions = 10\n",
    "dimensions = np.arange(1, max_dimensions + 1)\n",
    "vol_ratios = [np.nan] * max_dimensions\n",
    "\n",
    "# Calculate the ratios utilizing the functions\n",
    "for d in dimensions:\n",
    "    vol_ratios[d-1] = V_s(d)/V_c(d)\n",
    "\n",
    "# Plot the results\n",
    "ax.scatter(dimensions, vol_ratios)\n",
    "\n",
    "# Add labels \n",
    "ax.set_title(\"Volumes of Hypercubes and Hyperspheres in Higher Dimensions\", fontweight = \"bold\")\n",
    "ax.set_xlabel(\"Dimension\")\n",
    "ax.set_ylabel(\"Ratio of Hypercube Volume Occupied by Hypersphere\");"
   ]
  },
  {
   "cell_type": "markdown",
   "metadata": {},
   "source": [
    "----\n",
    "4). The majority of the volume of the hypercube resides outside of the hypersphere in higher dimensions and approaches 100% as the dimensions increase.\n",
    "\n",
    "----"
   ]
  },
  {
   "cell_type": "markdown",
   "metadata": {},
   "source": [
    "## Question 6: PCA and Dimensionality Reduction\n",
    "\n",
    "As we saw above, high dimensional problems can have counterintuitive behavior, thus we often want to try to reduce the dimensionality of our problems. A reasonable approach to reduce the dimensionality of the data is to use PCA and fit a logistic regression model on the smallest set of principal components that explain at least 90% of the variance in the predictors.\n",
    "\n",
    "1. Using the gene data from Problem 1, how many principal components do we need to capture at least 90% of the variance? How much of the variance do they actually capture? Fit a Logistic Regression model using these principal components. How do the classification accuracy values on both the training and tests sets compare with the models fit in question 3.1?  \n",
    "\n",
    "2. Use the code provided in question 3 to visualize the probabilities predicted by the fitted model on both the training and test sets. How does the spread of probabilities in these plots compare to those for the model in question 3.2? If the lower dimensional representation yields comparable predictive power, what advantage does the lower dimensional representation provide?"
   ]
  },
  {
   "cell_type": "markdown",
   "metadata": {},
   "source": [
    "#### Answers:\n",
    "\n",
    "**6.1:** Using the gene data from Problem 1, how many principal components do we need to capture at least 90% of the variance? How much of the variance do they actually capture? Fit a Logistic Regression model using these principal components. How do the classification accuracy values on both the training and tests sets compare with the models fit in question 3.1?  "
   ]
  },
  {
   "cell_type": "code",
   "execution_count": 19,
   "metadata": {},
   "outputs": [
    {
     "data": {
      "image/png": "[encoded data removed]",
      "text/plain": [
       "<Figure size 1080x720 with 1 Axes>"
      ]
     },
     "metadata": {},
     "output_type": "display_data"
    }
   ],
   "source": [
    "# Transform the training data\n",
    "pca_transformer30 = PCA(30).fit(X_train_normal)\n",
    "\n",
    "# initialize figure and plots\n",
    "fig, ax = plt.subplots(1,1,figsize = (15,10))\n",
    "\n",
    "# Plot the Explained Variance Ratio\n",
    "plt.scatter(range(0,30),np.cumsum(pca_transformer30.explained_variance_ratio_))\n",
    "\n",
    "# Add Labels\n",
    "plt.xlabel(\"PCA Dimension\")\n",
    "plt.ylabel(\"Total Variance Captured\")\n",
    "plt.title(\"Variance Explained by PCA\");\n"
   ]
  },
  {
   "cell_type": "code",
   "execution_count": 20,
   "metadata": {},
   "outputs": [
    {
     "name": "stdout",
     "output_type": "stream",
     "text": [
      "\u001b[1mAccuracy Scores\u001b[0m\n",
      "\u001b[1mTraining:\u001b[0m  1.000\n",
      "\u001b[1mTest:\u001b[0m  0.909\n"
     ]
    }
   ],
   "source": [
    "# Transform the training data\n",
    "pca_transformer = PCA(29).fit(X_train_normal)\n",
    "X_train_2d = pca_transformer.transform(X_train_normal)\n",
    "X_test_2d =  pca_transformer.transform(X_test_normal)\n",
    "\n",
    "# Fit the PCA training data to a logistic regression Model\n",
    "fitted_pca = LogisticRegression(C=100000, solver='newton-cg', max_iter=250).fit(X_train_2d, y_train)\n",
    "\n",
    "# Store the predictions\n",
    "pca_predictions_train = fitted_pca.predict(X_train_2d)\n",
    "pca_predictions_test = fitted_pca.predict(X_test_2d)\n",
    "\n",
    "# Print the accuracy scores:\n",
    "print(\"\\033[1mAccuracy Scores\\033[0m\")\n",
    "print(\"\\033[1mTraining:\\033[0m {0: .3f}\".format(accuracy_score(y_train, pca_predictions_train)))\n",
    "print(\"\\033[1mTest:\\033[0m {0: .3f}\".format(accuracy_score(y_test, pca_predictions_test)))"
   ]
  },
  {
   "cell_type": "markdown",
   "metadata": {},
   "source": [
    "----\n",
    "We need 29 PCAs to capture 90% of the variance. There was no clearly defined elbow visible in the plot. We chose 10 PCAs which captured 60% of the variance in our model. \n",
    "\n",
    "Compared to the model in 3.1, our current model still fits perfectly on the training set, however it has a lower accuracy score in comparison. \n",
    "\n",
    "----"
   ]
  },
  {
   "cell_type": "markdown",
   "metadata": {},
   "source": [
    "**6.2:** Use the code provided in question 3 to visualize the probabilities predicted by the fitted model on both the training and test sets. How does the spread of probabilities in these plots compare to those for the model in question 3.2? If the lower dimensional representation yields comparable predictive power, what advantage does the lower dimensional representation provide?"
   ]
  },
  {
   "cell_type": "code",
   "execution_count": 21,
   "metadata": {},
   "outputs": [
    {
     "data": {
      "image/png": "[encoded data removed]",
      "text/plain": [
       "<Figure size 1296x720 with 2 Axes>"
      ]
     },
     "metadata": {},
     "output_type": "display_data"
    }
   ],
   "source": [
    "# Initialize figure and plot\n",
    "fig, ax = plt.subplots(1,2,figsize = (18,10))\n",
    "\n",
    "# Plot the predictions\n",
    "visualize_prob(fitted_pca, X_train_2d, y_train, ax[0]);\n",
    "visualize_prob(fitted_pca, X_test_2d, y_test, ax[1]);\n",
    "\n",
    "# Add labels\n",
    "ax[0].set_title('PCA predictions on Train Data')\n",
    "ax[1].set_title('PCA predictions on Test Data');"
   ]
  },
  {
   "cell_type": "markdown",
   "metadata": {},
   "source": [
    "----\n",
    "The training data is fit perfectly, perhaps suggesting overfitting.  The test data probablilities are spread throughout 0 and 1, and several points are wongly to predicted to be type 1.  If the lower dimensional representation yields comparable predictive power, it will yield similar results to the higher dimensional representation while performing at a much faster rate.\n",
    "\n",
    "----"
   ]
  },
  {
   "cell_type": "markdown",
   "metadata": {},
   "source": [
    "\n",
    "## Multiclass Thyroid Classification\n",
    "\n",
    "In this problem, you will build a model for diagnosing disorders in a patient's thyroid gland. Given the results of medical tests on a patient, the task is to classify the patient either as:\n",
    "- *normal* (class 1)\n",
    "- having *hyperthyroidism* (class 2)\n",
    "- or having *hypothyroidism* (class 3). \n",
    "\n",
    "The data set is provided in the file `dataset_hw5_2.csv`. Columns 1-2 contain biomarkers for a patient (predictors):\n",
    "- Biomarker 1: (Logarithm of) level of basal thyroid-stimulating hormone (TSH) as measured by radioimmuno assay\n",
    "- Biomarker 2: (Logarithm of) maximal absolute difference of TSH value after injection of 200 micro grams of thyrotropin-releasing hormone as compared to the basal value.\n",
    "\n",
    "The last column contains the diagnosis for the patient from a medical expert. This data set was obtained from the UCI Machine Learning Repository.\n",
    "\n",
    "Notice that unlike previous exercises, the task at hand is a 3-class classification problem. We will explore the use of different methods for multiclass classification.\n",
    "\n",
    "First task: split the data using the code provided below."
   ]
  },
  {
   "cell_type": "markdown",
   "metadata": {},
   "source": [
    "## Question 7: Fit Classification Models\n",
    "\n",
    "1. Generate a 2D scatter plot of the training set, denoting each class with a different color. Does it appear that the data points can be separated well by a linear classifier?\n",
    "\n",
    "2. Briefly explain the difference between multinomial logistic regression and one-vs-rest (OvR) logistic regression methods for fitting a multiclass classifier (in 2-3 sentences).\n",
    "\n",
    "3. Fit linear classification models on the thyroid data set using both the methods.  You should use $L_2$ regularization in both cases, tuning the regularization parameter using cross-validation.  Is there a difference in the overall classification accuracy of the two methods on the test set?\n",
    "\n",
    "4. Also, compare the training and test accuracies of these models with the following classification methods:\n",
    "    - Multiclass Logistic Regression with quadratic terms \n",
    "    - Linear Discriminant Analysis\n",
    "    - Quadratic Discriminant Analysis\n",
    "    - k-Nearest Neighbors\n",
    " <br>\n",
    "*Note:* you may use either the OvR or multinomial variant for the multiclass logistic regression (with $L_2$ regularization). Do not forget to use cross-validation to choose the regularization parameter, and also the number of neighbors in k-NN. \n",
    "\n",
    "5. Does the inclusion of the polynomial terms in logistic regression yield better test accuracy compared to the model with only linear terms? \n",
    "\n",
    "\n",
    "*Hint:* You may use the `KNeighborsClassifier` class to fit a k-NN classification model."
   ]
  },
  {
   "cell_type": "markdown",
   "metadata": {},
   "source": [
    "#### Answers:\n",
    "\n",
    "**7.0:** First task: split the data using the code provided below. "
   ]
  },
  {
   "cell_type": "code",
   "execution_count": 22,
   "metadata": {},
   "outputs": [],
   "source": [
    "np.random.seed(9001)\n",
    "df = pd.read_csv('data/dataset_hw5_2.csv')\n",
    "msk = np.random.rand(len(df)) < 0.5\n",
    "data_train = df[msk]\n",
    "data_test = df[~msk]\n",
    "\n",
    "# Create X_train, y_train\n",
    "X_train = data_train.copy().drop(columns=\"Diagnosis\")\n",
    "y_train = data_train.copy()[\"Diagnosis\"]\n",
    "\n",
    "# Create X_test, y_test\n",
    "X_test = data_test.copy().drop(columns=\"Diagnosis\")\n",
    "y_test = data_test.copy()[\"Diagnosis\"]"
   ]
  },
  {
   "cell_type": "markdown",
   "metadata": {},
   "source": [
    "**7.1:** Generate a 2D scatter plot of the training set, denoting each class with a different color. Does it appear that the data points can be separated well by a linear classifier?\n"
   ]
  },
  {
   "cell_type": "code",
   "execution_count": 23,
   "metadata": {},
   "outputs": [
    {
     "data": {
      "image/png": "[encoded data removed]",
      "text/plain": [
       "<Figure size 720x432 with 1 Axes>"
      ]
     },
     "metadata": {},
     "output_type": "display_data"
    }
   ],
   "source": [
    "# initialize figure and subplots\n",
    "fig, ax = plt.subplots(1, 1, figsize=(10,6))\n",
    "\n",
    "# initialize an array of colors\n",
    "colors = [\"r\", \"b\", \"y\"]\n",
    "\n",
    "# Iterate through each class\n",
    "for index, thyroid_class in enumerate([\"normal\", \"hyperthyroidism\", \"hypothyroidism\"]):\n",
    "    # plot each class of data\n",
    "    class_data = data_train[data_train[\"Diagnosis\"] == (index + 1)]\n",
    "    ax.scatter(data_train[\"Biomarker 1\"].values, data_train[\"Biomarker 2\"].values, label= thyroid_class, color =colors[index], alpha=(1.0 - 0.3*index))\n",
    "\n",
    "# add labels\n",
    "ax.legend()\n",
    "ax.set_xlabel(\"Biomarker 1\")\n",
    "ax.set_ylabel(\"Biomarker 2\")\n",
    "ax.set_title(\"Multiclass Thyroid Classification Training Set\", fontweight = \"bold\");"
   ]
  },
  {
   "cell_type": "markdown",
   "metadata": {},
   "source": [
    "----\n",
    "\n",
    "It does not appear that the data points can be separated well by a linear classifier, as the data are all clustered in a similar region of the scatter plot.\n",
    "\n",
    "----"
   ]
  },
  {
   "cell_type": "markdown",
   "metadata": {},
   "source": [
    "**7.2:** Briefly explain the difference between multinomial logistic regression and one-vs-rest (OvR) logistic regression methods for fitting a multiclass classifier (in 2-3 sentences).\n"
   ]
  },
  {
   "cell_type": "markdown",
   "metadata": {},
   "source": [
    "----\n",
    "Multinomial logistic regression and one-vs-rest logistic regression differ in their reference group for each model in the regression. Multinomial logistic regression references the same baseline class for each model and compares each class individually to that baseline class, while one-vs-rest regression references each different class to the combination of all other classes for all models.\n",
    "\n",
    "----"
   ]
  },
  {
   "cell_type": "markdown",
   "metadata": {},
   "source": [
    "**7.3:** Fit linear classification models on the thyroid data set using both the methods.  You should use $L_2$ regularization in both cases, tuning the regularization parameter using cross-validation.  Is there a difference in the overall classification accuracy of the two methods on the test set?"
   ]
  },
  {
   "cell_type": "code",
   "execution_count": 24,
   "metadata": {},
   "outputs": [
    {
     "name": "stdout",
     "output_type": "stream",
     "text": [
      "\u001b[1mAccuracy Scores\u001b[0m\n",
      "\u001b[1mOvR:\u001b[0m  0.858\n",
      "\u001b[1mMultinomial:\u001b[0m  0.885\n"
     ]
    }
   ],
   "source": [
    "# List of potential regularization parameters\n",
    "lambdas = [0.001, 0.005, 0.01, 0.05, 0.1, 1, 5, 10, 50, 100, 500, 1000]\n",
    "\n",
    "# OvR Model\n",
    "kfold = KFold(5, shuffle=True) \n",
    "OvRCV_object = LogisticRegressionCV(Cs=lambdas, cv=kfold, multi_class='ovr', penalty= 'l2')\n",
    "OvRModel = OvRCV_object.fit(X_train, y_train)\n",
    "cvscores_ovr = accuracy_score(y_test, OvRModel.predict(X_test))\n",
    "\n",
    "# Multinomial Model\n",
    "kfold = KFold(5, shuffle=True) \n",
    "MultinomialCV_object = LogisticRegressionCV(Cs=lambdas, cv=kfold, multi_class='multinomial', penalty= 'l2')\n",
    "Multinomial_Model = MultinomialCV_object.fit(X_train, y_train)\n",
    "cvscores_multinomial = accuracy_score(y_test, Multinomial_Model.predict(X_test))\n",
    "\n",
    "# Print the accuracy scores:\n",
    "print(\"\\033[1mAccuracy Scores\\033[0m\")\n",
    "print(\"\\033[1mOvR:\\033[0m {0: .3f}\".format(cvscores_ovr))\n",
    "print(\"\\033[1mMultinomial:\\033[0m {0: .3f}\".format(cvscores_multinomial))"
   ]
  },
  {
   "cell_type": "markdown",
   "metadata": {},
   "source": [
    "----\n",
    "**The multinomial regression model has a higher accuracy score for the test set than the OVR model.**\n",
    "\n",
    "----"
   ]
  },
  {
   "cell_type": "markdown",
   "metadata": {},
   "source": [
    "**7.4:** Also, compare the training and test accuracies of these models with the following classification methods:\n",
    "    - Multiclass Logistic Regression with quadratic terms \n",
    "    - Linear Discriminant Analysis\n",
    "    - Quadratic Discriminant Analysis\n",
    "    - k-Nearest Neighbors\n",
    "\n",
    "*Note:* you may use either the OvR or multinomial variant for the multiclass logistic regression (with $L_2$ regularization). Do not forget to use cross-validation to choose the regularization parameter, and also the number of neighbors in k-NN. \n"
   ]
  },
  {
   "cell_type": "code",
   "execution_count": 25,
   "metadata": {},
   "outputs": [
    {
     "name": "stdout",
     "output_type": "stream",
     "text": [
      "\u001b[1mAccuracy Scores\u001b[0m\n",
      "\u001b[1mTraining:\u001b[0m  0.882\n",
      "\u001b[1mTest:\u001b[0m  0.885\n"
     ]
    }
   ],
   "source": [
    "# Multiclass Logistic Regression with quadratic terms\n",
    "\n",
    "# Add the polynomial features\n",
    "poly_transform = PolynomialFeatures(2, include_bias = False)\n",
    "X_train_poly = poly_transform.fit_transform(X_train)\n",
    "X_test_poly = poly_transform.fit_transform(X_test)\n",
    "\n",
    "# Fit a multiclass logistic regression to the data with polynomial features\n",
    "# Use lbfgs solver by default\n",
    "poly_model = LogisticRegressionCV(Cs = lambdas, cv = kfold, multi_class = 'ovr', penalty = 'l2')\n",
    "poly_model.fit(X_train_poly, y_train)\n",
    "\n",
    "# Store the accuracy scores\n",
    "poly_score_train = accuracy_score(y_train, poly_model.predict(X_train_poly))\n",
    "poly_score_test = accuracy_score(y_test, poly_model.predict(X_test_poly))\n",
    "\n",
    "# Print the accuracy scores:\n",
    "print(\"\\033[1mAccuracy Scores\\033[0m\")\n",
    "print(\"\\033[1mTraining:\\033[0m {0: .3f}\".format(poly_score_train))\n",
    "print(\"\\033[1mTest:\\033[0m {0: .3f}\".format(poly_score_test))"
   ]
  },
  {
   "cell_type": "code",
   "execution_count": 26,
   "metadata": {},
   "outputs": [
    {
     "name": "stdout",
     "output_type": "stream",
     "text": [
      "\u001b[1mAccuracy Scores\u001b[0m\n",
      "\u001b[1mTraining:\u001b[0m  0.873\n",
      "\u001b[1mTest:\u001b[0m  0.832\n"
     ]
    }
   ],
   "source": [
    "# Linear Discriminant Analysis\n",
    "\n",
    "# fit\n",
    "thyroid_lda = LinearDiscriminantAnalysis().fit(X_train, y_train)\n",
    "\n",
    "# Print the accuracy scores:\n",
    "print(\"\\033[1mAccuracy Scores\\033[0m\")\n",
    "print(\"\\033[1mTraining:\\033[0m {0: .3f}\".format(thyroid_lda.score(X_train, y_train)))\n",
    "print(\"\\033[1mTest:\\033[0m {0: .3f}\".format(thyroid_lda.score(X_test, y_test)))"
   ]
  },
  {
   "cell_type": "code",
   "execution_count": 27,
   "metadata": {},
   "outputs": [
    {
     "name": "stdout",
     "output_type": "stream",
     "text": [
      "\u001b[1mAccuracy Scores\u001b[0m\n",
      "\u001b[1mTraining:\u001b[0m  0.873\n",
      "\u001b[1mTest:\u001b[0m  0.850\n"
     ]
    }
   ],
   "source": [
    "# Quadratic Disciminant Analysis\n",
    "\n",
    "# fit\n",
    "thyroid_qda = QuadraticDiscriminantAnalysis().fit(X_train, y_train)\n",
    "\n",
    "# Print the accuracy scores:\n",
    "print(\"\\033[1mAccuracy Scores\\033[0m\")\n",
    "print(\"\\033[1mTraining:\\033[0m {0: .3f}\".format(thyroid_qda.score(X_train, y_train)))\n",
    "print(\"\\033[1mTest:\\033[0m {0: .3f}\".format(thyroid_qda.score(X_test, y_test)))"
   ]
  },
  {
   "cell_type": "code",
   "execution_count": 28,
   "metadata": {},
   "outputs": [
    {
     "data": {
      "text/html": [
       "<div>\n",
       "<style scoped>\n",
       "    .dataframe tbody tr th:only-of-type {\n",
       "        vertical-align: middle;\n",
       "    }\n",
       "\n",
       "    .dataframe tbody tr th {\n",
       "        vertical-align: top;\n",
       "    }\n",
       "\n",
       "    .dataframe thead th {\n",
       "        text-align: right;\n",
       "    }\n",
       "</style>\n",
       "<table border=\"1\" class=\"dataframe\">\n",
       "  <thead>\n",
       "    <tr style=\"text-align: right;\">\n",
       "      <th></th>\n",
       "      <th>CV1</th>\n",
       "      <th>CV2</th>\n",
       "      <th>CV3</th>\n",
       "      <th>meanCV</th>\n",
       "    </tr>\n",
       "  </thead>\n",
       "  <tbody>\n",
       "    <tr>\n",
       "      <th>1</th>\n",
       "      <td>0.800000</td>\n",
       "      <td>0.852941</td>\n",
       "      <td>0.939394</td>\n",
       "      <td>0.864112</td>\n",
       "    </tr>\n",
       "    <tr>\n",
       "      <th>2</th>\n",
       "      <td>0.742857</td>\n",
       "      <td>0.882353</td>\n",
       "      <td>0.909091</td>\n",
       "      <td>0.844767</td>\n",
       "    </tr>\n",
       "    <tr>\n",
       "      <th>3</th>\n",
       "      <td>0.885714</td>\n",
       "      <td>0.941176</td>\n",
       "      <td>0.969697</td>\n",
       "      <td>0.932196</td>\n",
       "    </tr>\n",
       "    <tr>\n",
       "      <th>4</th>\n",
       "      <td>0.828571</td>\n",
       "      <td>0.941176</td>\n",
       "      <td>0.909091</td>\n",
       "      <td>0.892946</td>\n",
       "    </tr>\n",
       "    <tr>\n",
       "      <th>5</th>\n",
       "      <td>0.828571</td>\n",
       "      <td>0.882353</td>\n",
       "      <td>0.909091</td>\n",
       "      <td>0.873338</td>\n",
       "    </tr>\n",
       "    <tr>\n",
       "      <th>6</th>\n",
       "      <td>0.828571</td>\n",
       "      <td>0.852941</td>\n",
       "      <td>0.878788</td>\n",
       "      <td>0.853433</td>\n",
       "    </tr>\n",
       "    <tr>\n",
       "      <th>7</th>\n",
       "      <td>0.857143</td>\n",
       "      <td>0.852941</td>\n",
       "      <td>0.939394</td>\n",
       "      <td>0.883159</td>\n",
       "    </tr>\n",
       "    <tr>\n",
       "      <th>8</th>\n",
       "      <td>0.828571</td>\n",
       "      <td>0.852941</td>\n",
       "      <td>0.909091</td>\n",
       "      <td>0.863535</td>\n",
       "    </tr>\n",
       "    <tr>\n",
       "      <th>9</th>\n",
       "      <td>0.885714</td>\n",
       "      <td>0.852941</td>\n",
       "      <td>0.909091</td>\n",
       "      <td>0.882582</td>\n",
       "    </tr>\n",
       "    <tr>\n",
       "      <th>10</th>\n",
       "      <td>0.857143</td>\n",
       "      <td>0.794118</td>\n",
       "      <td>0.909091</td>\n",
       "      <td>0.853450</td>\n",
       "    </tr>\n",
       "  </tbody>\n",
       "</table>\n",
       "</div>"
      ],
      "text/plain": [
       "         CV1       CV2       CV3    meanCV\n",
       "1   0.800000  0.852941  0.939394  0.864112\n",
       "2   0.742857  0.882353  0.909091  0.844767\n",
       "3   0.885714  0.941176  0.969697  0.932196\n",
       "4   0.828571  0.941176  0.909091  0.892946\n",
       "5   0.828571  0.882353  0.909091  0.873338\n",
       "6   0.828571  0.852941  0.878788  0.853433\n",
       "7   0.857143  0.852941  0.939394  0.883159\n",
       "8   0.828571  0.852941  0.909091  0.863535\n",
       "9   0.885714  0.852941  0.909091  0.882582\n",
       "10  0.857143  0.794118  0.909091  0.853450"
      ]
     },
     "execution_count": 28,
     "metadata": {},
     "output_type": "execute_result"
    }
   ],
   "source": [
    "# kNN\n",
    "\n",
    "# initialize array\n",
    "results = np.zeros((10,3))\n",
    "\n",
    "# Loop through the first 10 nearest neighbours and compute the cross val score for each neighbour\n",
    "for i,n in enumerate(range(1,11)):\n",
    "    model = KNeighborsClassifier(n_neighbors = n)\n",
    "    results[i,:] = cross_val_score(model, X_train, y_train, cv=3)\n",
    "\n",
    "# Create Data frame with CV scores for choosing the number of neighbours in kNN\n",
    "results_df = pd.DataFrame(results, index=list(range(1,11)), columns= [\"CV1\",\"CV2\",\"CV3\"])\n",
    "results_df['meanCV'] = np.mean(results, axis=1)\n",
    "results_df"
   ]
  },
  {
   "cell_type": "code",
   "execution_count": 29,
   "metadata": {},
   "outputs": [
    {
     "name": "stdout",
     "output_type": "stream",
     "text": [
      "\u001b[1mAccuracy Scores\u001b[0m\n",
      "\u001b[1mTraining:\u001b[0m  0.931\n",
      "\u001b[1mTest:\u001b[0m  0.867\n"
     ]
    }
   ],
   "source": [
    "#Creating kNN model with optimal nearest neighbours\n",
    "optimal_knn = KNeighborsClassifier(n_neighbors = 3).fit(X_train, y_train)\n",
    "\n",
    "# Print the accuracy scores:\n",
    "print(\"\\033[1mAccuracy Scores\\033[0m\")\n",
    "print(\"\\033[1mTraining:\\033[0m {0: .3f}\".format(optimal_knn.score(X_train, y_train)))\n",
    "print(\"\\033[1mTest:\\033[0m {0: .3f}\".format(optimal_knn.score(X_test, y_test)))"
   ]
  },
  {
   "cell_type": "markdown",
   "metadata": {},
   "source": [
    "**7.5:** Does the inclusion of the polynomial terms in logistic regression yield better test accuracy compared to the model with only linear terms? "
   ]
  },
  {
   "cell_type": "markdown",
   "metadata": {},
   "source": [
    "----\n",
    "The inclusion of polynomial terms does not yield better test accuracy compared to the model with only linear terms. In fact, it's slightly worse.\n",
    "\n",
    "----"
   ]
  },
  {
   "cell_type": "markdown",
   "metadata": {},
   "source": [
    "## Question 8: Visualize Decision Boundaries\n",
    "\n",
    "The following code will allow you to visualize the decision boundaries of a given classification model."
   ]
  },
  {
   "cell_type": "code",
   "execution_count": 30,
   "metadata": {},
   "outputs": [],
   "source": [
    "#--------  plot_decision_boundary\n",
    "# A function that visualizes the data and the decision boundaries\n",
    "# Input: \n",
    "#      x (predictors)\n",
    "#      y (labels)\n",
    "#      model (the classifier you want to visualize)\n",
    "#      title (title for plot)\n",
    "#      ax (a set of axes to plot on)\n",
    "#      poly_degree (highest degree of polynomial terms included in the model; None by default)\n",
    "\n",
    "def plot_decision_boundary(x, y, model, title, ax, poly_degree=None):\n",
    "    # Create mesh\n",
    "    # Interval of points for biomarker 1\n",
    "    min0 = x[:,0].min()\n",
    "    max0 = x[:,0].max()\n",
    "    interval0 = np.arange(min0, max0, (max0-min0)/100)\n",
    "    n0 = np.size(interval0)\n",
    "    \n",
    "    # Interval of points for biomarker 2\n",
    "    min1 = x[:,1].min()\n",
    "    max1 = x[:,1].max()\n",
    "    interval1 = np.arange(min1, max1, (max1-min1)/100)\n",
    "    n1 = np.size(interval1)\n",
    "\n",
    "    # Create mesh grid of points\n",
    "    x1, x2 = np.meshgrid(interval0, interval1)\n",
    "    x1 = x1.reshape(-1,1)\n",
    "    x2 = x2.reshape(-1,1)\n",
    "    xx = np.concatenate((x1, x2), axis=1)\n",
    "\n",
    "    # Predict on mesh of points\n",
    "    # Check if polynomial terms need to be included\n",
    "    if(poly_degree!=None):\n",
    "        # Use PolynomialFeatures to generate polynomial terms\n",
    "        poly = PolynomialFeatures(poly_degree,include_bias = False)\n",
    "        xx_ = poly.fit_transform(xx)\n",
    "        yy = model.predict(xx_) \n",
    "        \n",
    "    else:   \n",
    "        yy = model.predict(xx)\n",
    "        \n",
    "    yy = yy.reshape((n0, n1))\n",
    "\n",
    "    # Plot decision surface\n",
    "    x1 = x1.reshape(n0, n1)\n",
    "    x2 = x2.reshape(n0, n1)\n",
    "    ax.contourf(x1, x2, yy, cmap=plt.cm.coolwarm, alpha=0.8)\n",
    "    \n",
    "    # Plot scatter plot of data\n",
    "    yy = y.reshape(-1,)\n",
    "    ax.scatter(x[yy==1,0], x[yy==1,1], c='blue', label='Normal', cmap=plt.cm.coolwarm)\n",
    "    ax.scatter(x[yy==2,0], x[yy==2,1], c='cyan', label='Hyper', cmap=plt.cm.coolwarm)\n",
    "    ax.scatter(x[yy==3,0], x[yy==3,1], c='red', label='Hypo', cmap=plt.cm.coolwarm)\n",
    "    \n",
    "    # Label axis, title\n",
    "    ax.set_title(title)\n",
    "    ax.set_xlabel('Biomarker 1')\n",
    "    ax.set_ylabel('Biomarker 2')"
   ]
  },
  {
   "cell_type": "markdown",
   "metadata": {},
   "source": [
    "**Note:** The provided code uses `sklearn`'s `PolynomialFeatures` to generate higher-order polynomial terms, with degree `poly_degree`. \n",
    "Also, if you have loaded the data sets into `pandas` data frames, you may use the `as_matrix` function to obtain a `numpy` array from the data frame objects.\n",
    "\n",
    "1. Use the above code to visualize the decision boundaries for each of the model fitted in the previous question.\n",
    "2. Comment on the difference in the decision boundaries (if any) for the OvR and multinomial logistic regression models. Is there a difference between the decision boundaries for the linear logistic regression models and LDA. What about the decision boundaries for the quadratic logistic regression and QDA? Give an explanation for your answer.\n",
    "3. QDA is a generalization of the LDA model. What's the primary difference that makes QDA more general? How does that manifest in the plots you generated?"
   ]
  },
  {
   "cell_type": "markdown",
   "metadata": {
    "collapsed": true
   },
   "source": [
    "#### Answers:\n",
    "\n",
    "**8.1:** Use the above code to visualize the decision boundaries for each of the model fitted in the previous question."
   ]
  },
  {
   "cell_type": "code",
   "execution_count": 33,
   "metadata": {},
   "outputs": [
    {
     "name": "stderr",
     "output_type": "stream",
     "text": [
      "C:\\Users\\mkolo\\Anaconda3\\lib\\site-packages\\ipykernel_launcher.py:2: FutureWarning: Method .as_matrix will be removed in a future version. Use .values instead.\n",
      "  \n",
      "C:\\Users\\mkolo\\Anaconda3\\lib\\site-packages\\ipykernel_launcher.py:3: FutureWarning: Method .as_matrix will be removed in a future version. Use .values instead.\n",
      "  This is separate from the ipykernel package so we can avoid doing imports until\n"
     ]
    },
    {
     "data": {
      "image/png": "[encoded data removed]",
      "text/plain": [
       "<Figure size 1296x864 with 6 Axes>"
      ]
     },
     "metadata": {},
     "output_type": "display_data"
    }
   ],
   "source": [
    "# Change dataframes to arrays as told in directions despite warning\n",
    "X_test_array = X_test.as_matrix()\n",
    "y_test_array = y_test.as_matrix()\n",
    "\n",
    "# Initialize figure and subplots\n",
    "fig, ax = plt.subplots(2,3, figsize=(18,12))\n",
    "\n",
    "# OVR\n",
    "plot_decision_boundary(X_test_array, y_test_array, OvRModel, \"OvR Model\", ax[0][0])\n",
    "\n",
    "# Multinomial_\n",
    "plot_decision_boundary(X_test_array, y_test_array, Multinomial_Model, \"Multinomial Model\", ax[0][1])\n",
    "\n",
    "# Multinomial with Polynomial Features\n",
    "plot_decision_boundary(X_test_array, y_test_array, poly_model, \"Multinomial Model w/ Quadratic Features\", ax[0][2], 2)\n",
    "\n",
    "# Linear Discriminant Analysis\n",
    "plot_decision_boundary(X_test_array, y_test_array, thyroid_lda, \"Linear Discriminant Analysis\", ax[1][0])\n",
    "\n",
    "# Quadratic Discriminant Analysis\n",
    "plot_decision_boundary(X_test_array, y_test_array, thyroid_qda, \"Quadratic Discriminant Analysis\", ax[1][1])\n",
    "\n",
    "# Optimal k-NN\n",
    "plot_decision_boundary(X_test_array, y_test_array, optimal_knn, \"Optimal k-NN\", ax[1][2])\n",
    "\n",
    "# Plot labels\n",
    "fig.suptitle(\"Performance of Classification Models\", fontweight=\"bold\");"
   ]
  },
  {
   "cell_type": "markdown",
   "metadata": {},
   "source": [
    "**8.2:** Comment on the difference in the decision boundaries (if any) for the OvR and multinomial logistic regression models. Is there a difference between the decision boundaries for the linear logistic regression models and LDA. What about the decision boundaries for the quadratic logistic regression and QDA? Give an explanation for your answer."
   ]
  },
  {
   "cell_type": "markdown",
   "metadata": {},
   "source": [
    "---\n",
    "The decision boundaries better capture the classes for the multinomial regression models than for the OvR.  The boundary lines for the multinomial model appear to show that the class that is dark blue is the baseline model, as both boundary lines run parallel on opposite sides of the dark blue region.  Meanwhile, the OvR boundary lines intersect at several points, indicating that each boundary was made using a different baseline class with comparison to all other classes.  \n",
    "\n",
    "The LDA and logsitic models have different decision boundaries. The logistic model has decision boundaries that are parallel to the baseline class. While the LDA assumes that the covariance is the same for all classes, and therefore the decision boundaries are created such that it goes through the middle point between the centroids of each class.  \n",
    "\n",
    "The quadratic discriminant analysis does not assume that the covariance is the same for all classes, leading to different nonlinear boundaries between each class' centroid that mark the threshold for which class is more likely. Meanwhile, for multinomial quadratic logistic regression, a baseline class is still assumed, leading to decision boundaries being drawn with respect to that class.\n"
   ]
  },
  {
   "cell_type": "markdown",
   "metadata": {},
   "source": [
    "**8.3:** QDA is a generalization of the LDA model. What's the primary difference that makes QDA more general? How does that manifest in the plots you generated?"
   ]
  },
  {
   "cell_type": "markdown",
   "metadata": {},
   "source": [
    "---\n",
    "QDA does not assume the covariance matrix is the same between all classes so the decision boundaries are determined by a quadratic function. In LDA it is assumed that every class follows the Gaussian distribution, but with equal variance and covariance, so the boundary between classes becomes linear. \n",
    "\n",
    "---"
   ]
  },
  {
   "cell_type": "code",
   "execution_count": null,
   "metadata": {},
   "outputs": [],
   "source": []
  }
 ],
 "metadata": {
  "anaconda-cloud": {},
  "kernelspec": {
   "display_name": "Python 3",
   "language": "python",
   "name": "python3"
  },
  "language_info": {
   "codemirror_mode": {
    "name": "ipython",
    "version": 3
   },
   "file_extension": ".py",
   "mimetype": "text/x-python",
   "name": "python",
   "nbconvert_exporter": "python",
   "pygments_lexer": "ipython3",
   "version": "3.6.5"
  }
 },
 "nbformat": 4,
 "nbformat_minor": 2
}
