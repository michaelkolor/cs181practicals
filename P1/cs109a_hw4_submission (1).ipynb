{
 "cells": [
  {
   "cell_type": "markdown",
   "metadata": {},
   "source": [
    "# <img style=\"float: left; padding-right: 10px; width: 45px\" src=\"fig/iacs.png\"> S-109A Introduction to Data Science \n",
    "## Homework 4 - Regularization \n",
    "\n",
    "\n",
    "\n",
    "**Harvard University**<br/>\n",
    "**Summer 2018**<br/>\n",
    "**Instructors**: Pavlos Protopapas, Kevin Rader\n",
    "\n",
    "<hr style=\"height:2pt\">"
   ]
  },
  {
   "cell_type": "markdown",
   "metadata": {},
   "source": [
    "### INSTRUCTIONS\n",
    "\n",
    "- To submit your assignment follow the instructions given in canvas.\n",
    "- Restart the kernel and run the whole notebook again before you submit. \n",
    "- If you submit individually and you have worked with someone, please include the name of your [one] partner below. \n",
    "\n",
    "Names of people you have worked with goes here: \n",
    "\n",
    "<hr style=\"height:2pt\">"
   ]
  },
  {
   "cell_type": "code",
   "execution_count": 281,
   "metadata": {},
   "outputs": [
    {
     "data": {
      "text/html": [
       "<style>\n",
       "h1 { \n",
       "    padding-top: 25px;\n",
       "    padding-bottom: 25px;\n",
       "    text-align: left; \n",
       "    padding-left: 10px;\n",
       "    background-color: #DDDDDD; \n",
       "    color: black;\n",
       "}\n",
       "div.exercise {\n",
       "\tbackground-color: #ffcccc;\n",
       "\tborder-color: #E9967A; \t\n",
       "\tborder-left: 5px solid #800080; \n",
       "\tpadding: 0.5em;\n",
       "}\n",
       "div.theme {\n",
       "\tbackground-color: #DDDDDD;\n",
       "\tborder-color: #E9967A; \t\n",
       "\tborder-left: 5px solid #800080; \n",
       "\tpadding: 0.5em;\n",
       "\tfont-size: 18pt;\n",
       "}\n",
       "p.q1 { \n",
       "    padding-top: 5px;\n",
       "    padding-bottom: 5px;\n",
       "    text-align: left; \n",
       "    padding-left: 5px;\n",
       "    background-color: #EEEEEE; \n",
       "    color: black;\n",
       "}\n",
       "header {\n",
       "   padding-top: 35px;\n",
       "    padding-bottom: 35px;\n",
       "    text-align: left; \n",
       "    padding-left: 10px;\n",
       "    background-color: #DDDDDD; \n",
       "    color: black;\n",
       "}\n",
       "</style>\n",
       "\n"
      ],
      "text/plain": [
       "<IPython.core.display.HTML object>"
      ]
     },
     "execution_count": 281,
     "metadata": {},
     "output_type": "execute_result"
    }
   ],
   "source": [
    "from IPython.core.display import HTML\n",
    "def css_styling(): styles = open(\"cs109.css\", \"r\").read(); return HTML(styles)\n",
    "css_styling()"
   ]
  },
  {
   "cell_type": "markdown",
   "metadata": {},
   "source": [
    "import these libraries"
   ]
  },
  {
   "cell_type": "code",
   "execution_count": 282,
   "metadata": {},
   "outputs": [],
   "source": [
    "import warnings\n",
    "warnings.filterwarnings('ignore')\n",
    "import numpy as np\n",
    "import pandas as pd\n",
    "import matplotlib\n",
    "import matplotlib.pyplot as plt\n",
    "from sklearn.metrics import r2_score\n",
    "from sklearn.preprocessing import PolynomialFeatures\n",
    "from sklearn.linear_model import Ridge\n",
    "from sklearn.linear_model import Lasso\n",
    "from sklearn.linear_model import RidgeCV\n",
    "from sklearn.linear_model import LassoCV\n",
    "from sklearn.linear_model import LinearRegression\n",
    "from sklearn.preprocessing import StandardScaler\n",
    "\n",
    "from sklearn.model_selection import cross_val_score\n",
    "from sklearn.model_selection import LeaveOneOut\n",
    "from sklearn.model_selection import KFold\n",
    "\n",
    "#import statsmodels.api as sm\n",
    "\n",
    "from pandas.core import datetools\n",
    "%matplotlib inline"
   ]
  },
  {
   "cell_type": "markdown",
   "metadata": {},
   "source": [
    "# Continuing Bike Sharing Usage Data\n",
    "\n",
    "In this homework, we will focus on regularization and cross validation. We will continue to build regression models for the Capital Bikeshare program in Washington D.C.  See homework 3 for more information about the Capital Bikeshare data that we'll be using extensively. \n",
    "\n"
   ]
  },
  {
   "cell_type": "markdown",
   "metadata": {},
   "source": [
    "## Data Preparation\n",
    "\n",
    "\n",
    "\n",
    "<div class='exercise'> <b> Question 1 </b> </div> \n",
    "  In HW3 Questions 1-3, you preprocessed the data in preparation for your regression analysis. We ask you to repeat those steps (particularly those in Question 3) so that we can compare the analysis models in this HW with those you developed in HW3.  In this HW we'll be using models from sklearn exclusively (as opposed to statsmodels)\n",
    "  \n",
    "**1.1** [From HW3] Read `data/BSS_train.csv` and `data/BSS_test.csv` into dataframes `BSS_train` and `BSS_test`, respectively.  Remove the `dteday` column from both train and test dataset. We do not need it, and its format cannot be used for analysis.  Also remove the `casual` and `registered` columns for both training and test datasets as they make  `count` trivial.   \n",
    "\n",
    "**1.2** Since we'll be exploring Regularization and Polynomial Features, it will make sense to standardize our data.  Standardize the numerical features. Store the dataframes for the processed training and test predictors into the variables `X_train` and `X_test`.  Store the appropriately shaped numpy arrays for the corresponding train and test `count` columns into `y_train` and `y_test`.\n",
    "\n",
    "**1.3** Use the `LinearRegression` library from `sklearn` to fit a multiple linear regression model to the training set data in `X_train`.  Store the fitted model in the variable `BikeOLSModel`.\n",
    "\n",
    "**1.4** What are the training and test set $R^2$ scores?  Store the training and test $R^2$ scores of the `BikeOLSModel` in a dictionary `BikeOLS_r2scores` using the string 'training' and 'test' as keys.  \n",
    "\n",
    "**1.5**   We're going to use bootstrapped confidence intervals (use 500 bootstrap iterations) to determine which of the estimated coefficients for the `BikeOLSModel` are statistically significant at a significance level of 5% .  We'll do so by creating 3 different functions:\n",
    "\n",
    "1. `make_bootstrap_sample(dataset_X, dataset_y)` returns a bootstrap sample of `dataset_X` and `dataset_y`\n",
    "2. `calculate_coefficients(dataset_X, dataset_y, model)` returns in the form of a dictionary regression coefficients calculated by your model on `dataset_X` and `dataset_y`.  The keys for regression coefficients dictionary should be the names of the features.  The values should be the coefficient values of that feature calculated on your model.  An example would be {'hum': 12.3, 'windspeed': -1.2, 'Sunday': 0.6 ... }\n",
    "3. `get_significant_predictors(regression_coefficients, significance_level)` takes as input a list of regression coefficient dictionaries (each one the output of `calculate_coefficients` and  returns a python list of the feature names of the significant predictors e.g. ['Monday', 'hum', 'holiday', ... ]\n",
    "\n",
    "In the above functions `dataset_X` should always be a pandas dataframe with your features, `dataset_y` a numpy column vector with the values of the response variable and collectively they form the dataset upon which the operations take place. `model` is the `sklearn` regression model that will be used to generate the regression coefficients. `regression_coefficients` is a list of dictionaries of numpy arrays with each numpy array containing the regression coefficients (not including the intercept) calculated from one bootstrap sample.  `significance_level` represents the significance level as a floating point number.  So a 5% significance level should be represented as 0.05.  \n",
    "\n",
    "\n",
    "Store the feature names as a list of strings in the variable `BikeOLS_significant_bootstrap` and print them for your answer.\n"
   ]
  },
  {
   "cell_type": "markdown",
   "metadata": {},
   "source": [
    "### Answers"
   ]
  },
  {
   "cell_type": "markdown",
   "metadata": {},
   "source": [
    "#### 1.1 Read `data/BSS_train.csv` and `data/BSS_test.csv` into Pandas DataFrames"
   ]
  },
  {
   "cell_type": "code",
   "execution_count": 283,
   "metadata": {},
   "outputs": [
    {
     "data": {
      "text/html": [
       "<div>\n",
       "<style scoped>\n",
       "    .dataframe tbody tr th:only-of-type {\n",
       "        vertical-align: middle;\n",
       "    }\n",
       "\n",
       "    .dataframe tbody tr th {\n",
       "        vertical-align: top;\n",
       "    }\n",
       "\n",
       "    .dataframe thead th {\n",
       "        text-align: right;\n",
       "    }\n",
       "</style>\n",
       "<table border=\"1\" class=\"dataframe\">\n",
       "  <thead>\n",
       "    <tr style=\"text-align: right;\">\n",
       "      <th></th>\n",
       "      <th>hour</th>\n",
       "      <th>holiday</th>\n",
       "      <th>year</th>\n",
       "      <th>workingday</th>\n",
       "      <th>temp</th>\n",
       "      <th>atemp</th>\n",
       "      <th>hum</th>\n",
       "      <th>windspeed</th>\n",
       "      <th>counts</th>\n",
       "      <th>spring</th>\n",
       "      <th>...</th>\n",
       "      <th>Dec</th>\n",
       "      <th>Mon</th>\n",
       "      <th>Tue</th>\n",
       "      <th>Wed</th>\n",
       "      <th>Thu</th>\n",
       "      <th>Fri</th>\n",
       "      <th>Sat</th>\n",
       "      <th>Cloudy</th>\n",
       "      <th>Snow</th>\n",
       "      <th>Storm</th>\n",
       "    </tr>\n",
       "  </thead>\n",
       "  <tbody>\n",
       "    <tr>\n",
       "      <th>0</th>\n",
       "      <td>0</td>\n",
       "      <td>0</td>\n",
       "      <td>0</td>\n",
       "      <td>0</td>\n",
       "      <td>0.24</td>\n",
       "      <td>0.2879</td>\n",
       "      <td>0.81</td>\n",
       "      <td>0.0</td>\n",
       "      <td>16</td>\n",
       "      <td>0</td>\n",
       "      <td>...</td>\n",
       "      <td>0</td>\n",
       "      <td>0</td>\n",
       "      <td>0</td>\n",
       "      <td>0</td>\n",
       "      <td>0</td>\n",
       "      <td>0</td>\n",
       "      <td>1</td>\n",
       "      <td>0</td>\n",
       "      <td>0</td>\n",
       "      <td>0</td>\n",
       "    </tr>\n",
       "    <tr>\n",
       "      <th>1</th>\n",
       "      <td>1</td>\n",
       "      <td>0</td>\n",
       "      <td>0</td>\n",
       "      <td>0</td>\n",
       "      <td>0.22</td>\n",
       "      <td>0.2727</td>\n",
       "      <td>0.80</td>\n",
       "      <td>0.0</td>\n",
       "      <td>40</td>\n",
       "      <td>0</td>\n",
       "      <td>...</td>\n",
       "      <td>0</td>\n",
       "      <td>0</td>\n",
       "      <td>0</td>\n",
       "      <td>0</td>\n",
       "      <td>0</td>\n",
       "      <td>0</td>\n",
       "      <td>1</td>\n",
       "      <td>0</td>\n",
       "      <td>0</td>\n",
       "      <td>0</td>\n",
       "    </tr>\n",
       "    <tr>\n",
       "      <th>2</th>\n",
       "      <td>2</td>\n",
       "      <td>0</td>\n",
       "      <td>0</td>\n",
       "      <td>0</td>\n",
       "      <td>0.22</td>\n",
       "      <td>0.2727</td>\n",
       "      <td>0.80</td>\n",
       "      <td>0.0</td>\n",
       "      <td>32</td>\n",
       "      <td>0</td>\n",
       "      <td>...</td>\n",
       "      <td>0</td>\n",
       "      <td>0</td>\n",
       "      <td>0</td>\n",
       "      <td>0</td>\n",
       "      <td>0</td>\n",
       "      <td>0</td>\n",
       "      <td>1</td>\n",
       "      <td>0</td>\n",
       "      <td>0</td>\n",
       "      <td>0</td>\n",
       "    </tr>\n",
       "    <tr>\n",
       "      <th>3</th>\n",
       "      <td>3</td>\n",
       "      <td>0</td>\n",
       "      <td>0</td>\n",
       "      <td>0</td>\n",
       "      <td>0.24</td>\n",
       "      <td>0.2879</td>\n",
       "      <td>0.75</td>\n",
       "      <td>0.0</td>\n",
       "      <td>13</td>\n",
       "      <td>0</td>\n",
       "      <td>...</td>\n",
       "      <td>0</td>\n",
       "      <td>0</td>\n",
       "      <td>0</td>\n",
       "      <td>0</td>\n",
       "      <td>0</td>\n",
       "      <td>0</td>\n",
       "      <td>1</td>\n",
       "      <td>0</td>\n",
       "      <td>0</td>\n",
       "      <td>0</td>\n",
       "    </tr>\n",
       "    <tr>\n",
       "      <th>4</th>\n",
       "      <td>4</td>\n",
       "      <td>0</td>\n",
       "      <td>0</td>\n",
       "      <td>0</td>\n",
       "      <td>0.24</td>\n",
       "      <td>0.2879</td>\n",
       "      <td>0.75</td>\n",
       "      <td>0.0</td>\n",
       "      <td>1</td>\n",
       "      <td>0</td>\n",
       "      <td>...</td>\n",
       "      <td>0</td>\n",
       "      <td>0</td>\n",
       "      <td>0</td>\n",
       "      <td>0</td>\n",
       "      <td>0</td>\n",
       "      <td>0</td>\n",
       "      <td>1</td>\n",
       "      <td>0</td>\n",
       "      <td>0</td>\n",
       "      <td>0</td>\n",
       "    </tr>\n",
       "  </tbody>\n",
       "</table>\n",
       "<p>5 rows × 32 columns</p>\n",
       "</div>"
      ],
      "text/plain": [
       "   hour  holiday  year  workingday  temp   atemp   hum  windspeed  counts  \\\n",
       "0     0        0     0           0  0.24  0.2879  0.81        0.0      16   \n",
       "1     1        0     0           0  0.22  0.2727  0.80        0.0      40   \n",
       "2     2        0     0           0  0.22  0.2727  0.80        0.0      32   \n",
       "3     3        0     0           0  0.24  0.2879  0.75        0.0      13   \n",
       "4     4        0     0           0  0.24  0.2879  0.75        0.0       1   \n",
       "\n",
       "   spring  ...    Dec  Mon  Tue  Wed  Thu  Fri  Sat  Cloudy  Snow  Storm  \n",
       "0       0  ...      0    0    0    0    0    0    1       0     0      0  \n",
       "1       0  ...      0    0    0    0    0    0    1       0     0      0  \n",
       "2       0  ...      0    0    0    0    0    0    1       0     0      0  \n",
       "3       0  ...      0    0    0    0    0    0    1       0     0      0  \n",
       "4       0  ...      0    0    0    0    0    0    1       0     0      0  \n",
       "\n",
       "[5 rows x 32 columns]"
      ]
     },
     "execution_count": 283,
     "metadata": {},
     "output_type": "execute_result"
    }
   ],
   "source": [
    "# Read in data\n",
    "BSS_train = pd.read_csv(\"data/BSS_train.csv\")\n",
    "BSS_test = pd.read_csv(\"data/BSS_test.csv\")\n",
    "\n",
    "# Drop trivial columns from the dataframes\n",
    "BSS_train = BSS_train.drop([\"dteday\", \"casual\", \"registered\", \"Unnamed: 0\"], axis = 1)\n",
    "BSS_test = BSS_test.drop([\"dteday\", \"casual\", \"registered\", \"Unnamed: 0\"], axis = 1)\n",
    "\n",
    "# Print the head to check\n",
    "BSS_train.head()"
   ]
  },
  {
   "cell_type": "markdown",
   "metadata": {},
   "source": [
    "#### 1.2 Standardizing our data"
   ]
  },
  {
   "cell_type": "code",
   "execution_count": 284,
   "metadata": {},
   "outputs": [
    {
     "data": {
      "text/html": [
       "<div>\n",
       "<style scoped>\n",
       "    .dataframe tbody tr th:only-of-type {\n",
       "        vertical-align: middle;\n",
       "    }\n",
       "\n",
       "    .dataframe tbody tr th {\n",
       "        vertical-align: top;\n",
       "    }\n",
       "\n",
       "    .dataframe thead th {\n",
       "        text-align: right;\n",
       "    }\n",
       "</style>\n",
       "<table border=\"1\" class=\"dataframe\">\n",
       "  <thead>\n",
       "    <tr style=\"text-align: right;\">\n",
       "      <th></th>\n",
       "      <th>hour</th>\n",
       "      <th>holiday</th>\n",
       "      <th>year</th>\n",
       "      <th>workingday</th>\n",
       "      <th>temp</th>\n",
       "      <th>atemp</th>\n",
       "      <th>hum</th>\n",
       "      <th>windspeed</th>\n",
       "      <th>spring</th>\n",
       "      <th>summer</th>\n",
       "      <th>...</th>\n",
       "      <th>Dec</th>\n",
       "      <th>Mon</th>\n",
       "      <th>Tue</th>\n",
       "      <th>Wed</th>\n",
       "      <th>Thu</th>\n",
       "      <th>Fri</th>\n",
       "      <th>Sat</th>\n",
       "      <th>Cloudy</th>\n",
       "      <th>Snow</th>\n",
       "      <th>Storm</th>\n",
       "    </tr>\n",
       "  </thead>\n",
       "  <tbody>\n",
       "    <tr>\n",
       "      <th>0</th>\n",
       "      <td>6</td>\n",
       "      <td>0</td>\n",
       "      <td>0</td>\n",
       "      <td>0</td>\n",
       "      <td>-1.448124</td>\n",
       "      <td>-1.192685</td>\n",
       "      <td>0.937441</td>\n",
       "      <td>-1.539692</td>\n",
       "      <td>0</td>\n",
       "      <td>0</td>\n",
       "      <td>...</td>\n",
       "      <td>0</td>\n",
       "      <td>0</td>\n",
       "      <td>0</td>\n",
       "      <td>0</td>\n",
       "      <td>0</td>\n",
       "      <td>0</td>\n",
       "      <td>1</td>\n",
       "      <td>0</td>\n",
       "      <td>0</td>\n",
       "      <td>0</td>\n",
       "    </tr>\n",
       "    <tr>\n",
       "      <th>1</th>\n",
       "      <td>9</td>\n",
       "      <td>0</td>\n",
       "      <td>0</td>\n",
       "      <td>0</td>\n",
       "      <td>-0.927233</td>\n",
       "      <td>-0.750546</td>\n",
       "      <td>0.729191</td>\n",
       "      <td>-1.539692</td>\n",
       "      <td>0</td>\n",
       "      <td>0</td>\n",
       "      <td>...</td>\n",
       "      <td>0</td>\n",
       "      <td>0</td>\n",
       "      <td>0</td>\n",
       "      <td>0</td>\n",
       "      <td>0</td>\n",
       "      <td>0</td>\n",
       "      <td>1</td>\n",
       "      <td>0</td>\n",
       "      <td>0</td>\n",
       "      <td>0</td>\n",
       "    </tr>\n",
       "    <tr>\n",
       "      <th>2</th>\n",
       "      <td>20</td>\n",
       "      <td>0</td>\n",
       "      <td>0</td>\n",
       "      <td>0</td>\n",
       "      <td>-0.510521</td>\n",
       "      <td>-0.397067</td>\n",
       "      <td>1.301879</td>\n",
       "      <td>0.511999</td>\n",
       "      <td>0</td>\n",
       "      <td>0</td>\n",
       "      <td>...</td>\n",
       "      <td>0</td>\n",
       "      <td>0</td>\n",
       "      <td>0</td>\n",
       "      <td>0</td>\n",
       "      <td>0</td>\n",
       "      <td>0</td>\n",
       "      <td>1</td>\n",
       "      <td>1</td>\n",
       "      <td>0</td>\n",
       "      <td>0</td>\n",
       "    </tr>\n",
       "    <tr>\n",
       "      <th>3</th>\n",
       "      <td>10</td>\n",
       "      <td>0</td>\n",
       "      <td>0</td>\n",
       "      <td>0</td>\n",
       "      <td>-0.718877</td>\n",
       "      <td>-0.750546</td>\n",
       "      <td>0.989503</td>\n",
       "      <td>0.271004</td>\n",
       "      <td>0</td>\n",
       "      <td>0</td>\n",
       "      <td>...</td>\n",
       "      <td>0</td>\n",
       "      <td>0</td>\n",
       "      <td>0</td>\n",
       "      <td>0</td>\n",
       "      <td>0</td>\n",
       "      <td>0</td>\n",
       "      <td>0</td>\n",
       "      <td>1</td>\n",
       "      <td>0</td>\n",
       "      <td>0</td>\n",
       "    </tr>\n",
       "    <tr>\n",
       "      <th>4</th>\n",
       "      <td>12</td>\n",
       "      <td>0</td>\n",
       "      <td>0</td>\n",
       "      <td>0</td>\n",
       "      <td>-0.718877</td>\n",
       "      <td>-0.839207</td>\n",
       "      <td>0.208565</td>\n",
       "      <td>0.874300</td>\n",
       "      <td>0</td>\n",
       "      <td>0</td>\n",
       "      <td>...</td>\n",
       "      <td>0</td>\n",
       "      <td>0</td>\n",
       "      <td>0</td>\n",
       "      <td>0</td>\n",
       "      <td>0</td>\n",
       "      <td>0</td>\n",
       "      <td>0</td>\n",
       "      <td>1</td>\n",
       "      <td>0</td>\n",
       "      <td>0</td>\n",
       "    </tr>\n",
       "  </tbody>\n",
       "</table>\n",
       "<p>5 rows × 31 columns</p>\n",
       "</div>"
      ],
      "text/plain": [
       "   hour  holiday  year  workingday      temp     atemp       hum  windspeed  \\\n",
       "0     6        0     0           0 -1.448124 -1.192685  0.937441  -1.539692   \n",
       "1     9        0     0           0 -0.927233 -0.750546  0.729191  -1.539692   \n",
       "2    20        0     0           0 -0.510521 -0.397067  1.301879   0.511999   \n",
       "3    10        0     0           0 -0.718877 -0.750546  0.989503   0.271004   \n",
       "4    12        0     0           0 -0.718877 -0.839207  0.208565   0.874300   \n",
       "\n",
       "   spring  summer  ...    Dec  Mon  Tue  Wed  Thu  Fri  Sat  Cloudy  Snow  \\\n",
       "0       0       0  ...      0    0    0    0    0    0    1       0     0   \n",
       "1       0       0  ...      0    0    0    0    0    0    1       0     0   \n",
       "2       0       0  ...      0    0    0    0    0    0    1       1     0   \n",
       "3       0       0  ...      0    0    0    0    0    0    0       1     0   \n",
       "4       0       0  ...      0    0    0    0    0    0    0       1     0   \n",
       "\n",
       "   Storm  \n",
       "0      0  \n",
       "1      0  \n",
       "2      0  \n",
       "3      0  \n",
       "4      0  \n",
       "\n",
       "[5 rows x 31 columns]"
      ]
     },
     "execution_count": 284,
     "metadata": {},
     "output_type": "execute_result"
    }
   ],
   "source": [
    "# Declare StandardScaler() object\n",
    "scaler = StandardScaler()\n",
    "\n",
    "# Initialize copy of the train and test data, store in X_train and X_test\n",
    "X_train = BSS_train.copy().drop([\"counts\"], axis = 1)\n",
    "X_test = BSS_test.copy().drop([\"counts\"], axis = 1)\n",
    "\n",
    "\n",
    "# Iterate through each numerical feature in X_train and X_test\n",
    "for col in BSS_train[[\"temp\", \"atemp\", \"hum\", \"windspeed\"]].columns:\n",
    "    \n",
    "    # Standardize the features\n",
    "    X_train[col] = scaler.fit_transform(X_train[[col]])\n",
    "    X_test[col] = scaler.fit_transform(X_test[[col]])\n",
    "\n",
    "# Store a copy of the response variables in y_train and y_test\n",
    "y_train = BSS_train.copy()[\"counts\"]\n",
    "y_test = BSS_test.copy()[\"counts\"]\n",
    "\n",
    "# Check the feature variables\n",
    "X_test.head()"
   ]
  },
  {
   "cell_type": "markdown",
   "metadata": {},
   "source": [
    "#### 1.3 Use the `LinearRegression` library from `sklearn` to fit a multiple linear regression."
   ]
  },
  {
   "cell_type": "code",
   "execution_count": 285,
   "metadata": {},
   "outputs": [],
   "source": [
    "# Declare LinearRegression object\n",
    "regression = LinearRegression()\n",
    "\n",
    "# Fit a multiple linear regression with the training data\n",
    "BikeOLSModel = regression.fit(X_train, y_train)"
   ]
  },
  {
   "cell_type": "markdown",
   "metadata": {},
   "source": [
    "#### 1.4 What are the training and test set $R^2$ scores? Store the $R^2$ scores of the `BikeOLSModel` on the training and test sets in a dictionary `BikeOLS_r2scores`. "
   ]
  },
  {
   "cell_type": "code",
   "execution_count": 286,
   "metadata": {},
   "outputs": [
    {
     "data": {
      "text/plain": [
       "{'train': 0.4065387827969087, 'test': 0.40540416900870035}"
      ]
     },
     "execution_count": 286,
     "metadata": {},
     "output_type": "execute_result"
    }
   ],
   "source": [
    "# Store the predicted values for the training and test data\n",
    "yhat_train = regression.predict(X_train)\n",
    "yhat_test = regression.predict(X_test)\n",
    "\n",
    "# Calculate the R^2 scores for the training and test data\n",
    "r2_train = r2_score(y_train, yhat_train)\n",
    "r2_test = r2_score(y_test, yhat_test)\n",
    "\n",
    "# Store the R^2 scores in a dicionary\n",
    "BikeOLS_r2scores = {'train' : r2_train, 'test': r2_test }\n",
    "\n",
    "# Print\n",
    "BikeOLS_r2scores"
   ]
  },
  {
   "cell_type": "markdown",
   "metadata": {},
   "source": [
    "#### 1.5 We're going to use bootstrapped confidence intervals to determine which of the estimated coefficients ..."
   ]
  },
  {
   "cell_type": "code",
   "execution_count": 287,
   "metadata": {},
   "outputs": [
    {
     "name": "stdout",
     "output_type": "stream",
     "text": [
      "\u001b[1mSignificant Predictors:\u001b[0m\n",
      "['hour', 'holiday', 'year', 'workingday', 'temp', 'hum', 'windspeed', 'spring', 'summer', 'fall', 'Mar', 'Apr', 'May', 'Jun', 'Jul', 'Aug', 'Oct', 'Nov', 'Dec', 'Sat', 'Cloudy', 'Snow', 'Storm']\n"
     ]
    }
   ],
   "source": [
    "# dataset_x should be a pandas dataframe\n",
    "\n",
    "## accepts dataset inputs as numpy arrays\n",
    "def make_bootstrap_sample(dataset_X, dataset_y, size = None):\n",
    "    \"\"\"Returns a bootstrap sample of the given data and size\n",
    "    \n",
    "    Args:\n",
    "        dataset_X: the Pandas dataframe of feature variables and values\n",
    "        dataset_y: the column vector of response values\n",
    "        size: the size of the Bootstrap sample with None as the default\n",
    "    \n",
    "    Returns:\n",
    "        Returns a tuple containing a dataframe containing the Bootstrap X-values and a list of Bootstrap y-values\n",
    "    \"\"\"\n",
    "    \n",
    "    # by default return a bootstrap sample of the same size as the original dataset\n",
    "    if not size: size = len(dataset_X)\n",
    "    \n",
    "    # if the X and y datasets aren't the same size, raise an exception\n",
    "    if len(dataset_X) != len(dataset_y):\n",
    "        raise Exception(\"Data size must match between dataset_X and dataset_y\")\n",
    "    \n",
    "    # Store an ndarray of random indices\n",
    "    inds_to_sample = np.random.choice(dataset_X.shape[0], size, replace = True)\n",
    "    \n",
    "    # Store the observations located at these indices in the Dataframe as the bootstrap sample data\n",
    "    bootstrap_dataset_X = dataset_X.iloc[inds_to_sample]\n",
    "    bootstrap_dataset_y = dataset_y[inds_to_sample]\n",
    "    \n",
    "    # return as a tuple the bootstrap samples of dataset_X as a pandas dataframe\n",
    "    # and the bootstrap samples of dataset y as a numpy column vector\n",
    "    return (bootstrap_dataset_X, bootstrap_dataset_y)\n",
    "    \n",
    "def calculate_coefficients(dataset_X, dataset_y, model):\n",
    "    \"\"\"Returns the Beta-coefficients of the given data fitted to the given model\n",
    "    \n",
    "    Args:\n",
    "        dataset_X: the Pandas dataframe of feature variables and values\n",
    "        dataset_y: the column vector of response values\n",
    "        model: the model object to be fitted with the given data\n",
    "    \n",
    "    Returns:\n",
    "        coefficients_dictionary: a dictionary containing the feature names as keys and the\n",
    "        coefficients as values.\"\"\"\n",
    "    \n",
    "    # Fit the data to the given model parameter\n",
    "    model.fit(dataset_X, dataset_y)\n",
    "    \n",
    "    # Initalize dictionary of coefficents\n",
    "    coefficients_dictionary = {}\n",
    "    \n",
    "    # Iterate through dataset coefficients and store them in the dictionary\n",
    "    for index, val in enumerate(model.coef_):\n",
    "        coefficients_dictionary[dataset_X.columns[index]] = val\n",
    "    \n",
    "    # return coefficients  in the variable  coefficients_dictionary as a dictionary\n",
    "    # with the key being the name of the feature as a string\n",
    "    # the value being the value of the coefficients\n",
    "    # do not return the intercept as part of this\n",
    "    return coefficients_dictionary\n",
    "\n",
    "def get_significant_predictors(regression_coefficients, significance_level):\n",
    "    \"\"\"Returns the significant predictors from a model\n",
    "    \n",
    "    Args:\n",
    "        regression_coefficients: a list of dictionaries containing the regression coefficients\n",
    "        of models made from different samples\n",
    "        significance_level: the alpha-level used to determine feature significance\n",
    "    \n",
    "    Returns:\n",
    "        significant_coefficients: a list of the significant feature names\n",
    "        \"\"\"\n",
    "        \n",
    "    # initialize a DataFrame to contain a list of the column names \n",
    "    coefficient_values = pd.DataFrame(index=list(regression_coefficients[0].keys()))\n",
    "    \n",
    "    # Store all of the values from each bootstrap sample in a column\n",
    "    for row, cur_sample in enumerate(regression_coefficients):\n",
    "        coefficient_values[row] = cur_sample.values()\n",
    "        \n",
    "    # Transpose the DataFrame so that each row now represents one Bootstrap sample\n",
    "    coefficient_values = coefficient_values.T\n",
    "    \n",
    "    # Initialize significant_coefficients to an empty list\n",
    "    significant_coefficients = []\n",
    "    \n",
    "    # Store the upper and lower percentile bounds\n",
    "    lower_bound = significance_level/2 * 100\n",
    "    upper_bound = 100 - lower_bound\n",
    "\n",
    "    # Iterate through all of coefficient_values and determine which coefficients are significant\n",
    "    for index_column, col in enumerate(coefficient_values): \n",
    "        if not(((np.percentile(coefficient_values[col], lower_bound ) < 0)) & ((np.percentile(coefficient_values[col], upper_bound) > 0))):\n",
    "            significant_coefficients.append(coefficient_values.columns[index_column])\n",
    "    \n",
    "    # return significant_coefficients\n",
    "    return significant_coefficients\n",
    "\n",
    "# Initialize the list of coefficients\n",
    "boot_coefs = [np.nan]*500\n",
    "\n",
    "# Create 500 Bootstrap samples\n",
    "for i in range(500):\n",
    "    boot_x, boot_y = make_bootstrap_sample(X_train, y_train)\n",
    "    boot_coefs[i] = calculate_coefficients(boot_x, boot_y, LinearRegression())\n",
    "\n",
    "# Store the significant predictors\n",
    "BikeOLS_significant_bootstrap = get_significant_predictors(boot_coefs, 0.05)\n",
    "\n",
    "# Print the significant predictors\n",
    "print(\"\\033[1mSignificant Predictors:\\033[0m\\n{0}\".format(BikeOLS_significant_bootstrap))"
   ]
  },
  {
   "cell_type": "markdown",
   "metadata": {},
   "source": [
    "## Penalization Methods\n",
    "\n",
    "In HW 3 Question 5 we explored using subset selection to find a significant subset of features.  We then fit a regression model just on that subset of features instead of on the full dataset (including all features).   As an alternative to selecting a subset of predictors and fitting a regression model on the subset, one can fit a linear regression model on all predictors, but shrink or regularize the coefficient estimates to make sure that the model does not \"overfit\" the training set. \n",
    "\n",
    "<div class='exercise'> <b> Question 2 </b> </div> \n",
    "  We're going to use Ridge and Lasso regression regularization techniques to fit linear models to the training set.  We'll use cross-validation and shrinkage parameters $\\lambda$ from the set $\\{.001,.005,1,5,10,50,100,500,1000\\}$ to pick the best model for each regularization technique.\n",
    "\n",
    "**2.1** Use 5-fold cross-validation to pick the best shrinkage parameter from the set $\\{.001,.005,1,5,10,50,100,500,1000\\}$ for your Ridge Regression model on the training data.  Fit a Ridge Regression model on the training set with the selected shrinkage parameter and store your fitted model in the variable `BikeRRModel`.  Store the selected shrinkage parameter in the variable `BikeRR_shrinkage_parameter`.\n",
    "\n",
    "**2.2** Use 5-fold cross-validation to pick the best shrinkage parameter from the set $\\{.001,.005,1,5,10,50,100,500,1000\\}$ for your Lasso Regression model on the training data.  Fit a Lasso Regression model on the training set with the selected shrinkage parameter and store your fitted model in the variable `BikeLRModel`.  Store the selected shrinkage parameter in the variable `BikeLR_shrinkage_parameter`.\n",
    "\n",
    "**2.3** Create three dictionaries `BikeOLSparams`, `BikeLRparams`, and `BikeRRparams`.  Store in each the corresponding regression coefficients for each of the regression models indexed by the string feature name.\n",
    "\n",
    "**2.4** For the Lasso and Ridge Regression models list the features that are assigned a coefficient value close to 0 (i.e. the absolute value of the coefficient is less than 0.1).  How closely do they match the redundant predictors found (if any) in HW 3, Question 5?\n",
    "\n",
    "**2.5** To get a visual sense of how the features different regression models (Multiple Linear Regression, Ridge Regression, Lasso Regression) estimate coefficients, order the features by magnitude of the estimated coefficients in the Multiple Linear Regression Model (no shrinkage).  Plot a bar graph of the magnitude (absolute value) of the estimated coefficients from Multiple Linear Regression in order from greatest to least.  Using a different color (and alpha values) overlay bar graphs of the magnitude of the estimated coefficients (in the same order as the Multiple Linear Regression coefficients) from Ridge and Lasso Regression.\n",
    "\n",
    "**2.6** Let's examine a pair of features we believe to be related.  Is there a difference in the way Ridge and Lasso regression assign coefficients to the predictors `temp` and `atemp`? If so, explain the reason for the difference.\n",
    "\n",
    "**2.7** Discuss the Results:\n",
    "\n",
    "1. How do the estimated coefficients compare to or differ from the coefficients estimated by a plain linear regression (without shrinkage penalty) in Question 1? \n",
    "2. Is there a difference between coefficients estimated by the two shrinkage methods? If so, give an explantion for the difference.\n",
    "3. Is the significance related to the shrinkage in some way?\n",
    "\n",
    "*Hint:* You may use `sklearn`'s `RidgeCV` and `LassoCV` classes to implement Ridge and Lasso regression. These classes automatically perform cross-validation to tune the parameter $\\lambda$ from a given range of values."
   ]
  },
  {
   "cell_type": "markdown",
   "metadata": {},
   "source": [
    "### Answers"
   ]
  },
  {
   "cell_type": "code",
   "execution_count": 288,
   "metadata": {},
   "outputs": [],
   "source": [
    "lambdas = [.001, .005, 1, 5, 10, 50, 100, 500, 1000]"
   ]
  },
  {
   "cell_type": "markdown",
   "metadata": {},
   "source": [
    "#### 2.1 Use 5-fold cross-validation to pick the best shrinkage parameter from the set $\\{.001,.005,1,5,10,50,100,500,1000\\}$ for your Ridge Regression model."
   ]
  },
  {
   "cell_type": "code",
   "execution_count": 289,
   "metadata": {},
   "outputs": [],
   "source": [
    "# Initialize a 5-fold KFOLD object \n",
    "kfold5 = KFold(5, shuffle=True) \n",
    "\n",
    "# Initialize a Ridge cross-validation object\n",
    "ridgeCV_object = RidgeCV(alphas=(lambdas), cv=kfold5)\n",
    "\n",
    "# Fit the training data with the CV object\n",
    "BikeRRModel = ridgeCV_object.fit(X_train, y_train)\n",
    "\n",
    "# Store the optimum shrinkage parameter according to the algorithm\n",
    "BikeRR_shrinkage_parameter = BikeRRModel.alpha_"
   ]
  },
  {
   "cell_type": "markdown",
   "metadata": {},
   "source": [
    "#### 2.2 Use 5-fold cross-validation to pick the best shrinkage parameter from the set $\\{.001,.005,1,5,10,50,100,500,1000\\}$ for your Lasso Regression model."
   ]
  },
  {
   "cell_type": "code",
   "execution_count": 290,
   "metadata": {},
   "outputs": [],
   "source": [
    "# Initialize a Lasso cross-validation object\n",
    "lassoCV_object = LassoCV(alphas= lambdas, cv=kfold5)\n",
    "\n",
    "# Fit the training data with the CV object\n",
    "BikeLRModel = lassoCV_object.fit(X_train, y_train)\n",
    "\n",
    "# Store the optimum shrinkage parameter according to the algorithm\n",
    "BikeLR_shrinkage_parameter = BikeLRModel.alpha_"
   ]
  },
  {
   "cell_type": "markdown",
   "metadata": {},
   "source": [
    "#### 2.3 Create three dictionaries `BikeOLSparams`, `BikeLRparams`, and `BikeRRparams`.  Store in each the corresponding regression coefficients."
   ]
  },
  {
   "cell_type": "code",
   "execution_count": 291,
   "metadata": {
    "scrolled": true
   },
   "outputs": [],
   "source": [
    "# Create the three dictionaries using dict() and zip() functions\n",
    "BikeLRparams = dict(zip(X_train.columns.values, BikeLRModel.coef_))\n",
    "BikeRRparams = dict(zip(X_train.columns.values, BikeRRModel.coef_))\n",
    "BikeOLSparams = dict(zip(X_train.columns.values, BikeOLSModel.coef_))"
   ]
  },
  {
   "cell_type": "markdown",
   "metadata": {},
   "source": [
    "#### 2.4 For the Lasso and Ridge Regression models list the features that are assigned a coefficient value close to 0 ..."
   ]
  },
  {
   "cell_type": "code",
   "execution_count": 292,
   "metadata": {
    "scrolled": true
   },
   "outputs": [
    {
     "name": "stdout",
     "output_type": "stream",
     "text": [
      "\u001b[1mFeatures with Coefficient Absolute Value < 0.01:\u001b[0m\n",
      "Lasso: []\n",
      "Ridge: []\n"
     ]
    }
   ],
   "source": [
    "# Use list comprehenion to create a list of features with coefficient values close to 0\n",
    "lr_small = [k for k,v in BikeLRparams.items() if abs(v) < 0.01]\n",
    "rr_small = [k for k,v in BikeRRparams.items() if abs(v) < 0.01]\n",
    "\n",
    "# Print Results\n",
    "print(\"\\033[1mFeatures with Coefficient Absolute Value < 0.01:\\033[0m\\nLasso: {0}\\nRidge: {1}\".format(lr_small, rr_small))"
   ]
  },
  {
   "cell_type": "markdown",
   "metadata": {},
   "source": [
    "<HR>\n",
    "How closely do they match the redundant predictors found (if any) in HW 3, Question 5?\n",
    "    \n",
    "** There were no features found with coefficient values close to 0 and therefore the list has no match-up with the redundant features from HW 3 Question 5 **\n",
    "<HR>"
   ]
  },
  {
   "cell_type": "markdown",
   "metadata": {},
   "source": [
    "#### 2.5 To get a visual sense of how the features different regression models (Multiple Linear Regression, Ridge Regression, Lasso Regression) estimate coefficients, order the features by magnitude of the estimated coefficients in the Multiple Linear Regression Model (no shrinkage)."
   ]
  },
  {
   "cell_type": "code",
   "execution_count": 293,
   "metadata": {},
   "outputs": [
    {
     "data": {
      "image/png": "[encoded data removed]",
      "text/plain": [
       "<Figure size 1800x1080 with 1 Axes>"
      ]
     },
     "metadata": {},
     "output_type": "display_data"
    }
   ],
   "source": [
    "# Initialize the figure\n",
    "fig, ax = plt.subplots(1,1, figsize=(25,15))\n",
    "\n",
    "# Sort the feature variables and coefficients in BikeOLSParams by magnitude \n",
    "BikeOLS_sort = sorted(BikeOLSparams.items(), key=lambda dict_key: abs(dict_key[1]))\n",
    "\n",
    "# Put them in order from greatest magnitude to least\n",
    "BikeOLS_sort.reverse()\n",
    "\n",
    "# Store the number of feature variables\n",
    "num_features = len(BikeOLS_sort)\n",
    "\n",
    "# Initialize empty lists to hold Ridge Regression and Lasso Regression coefficients\n",
    "rr_values = [np.nan] * num_features\n",
    "lr_values = [np.nan] * num_features\n",
    "\n",
    "# Store the Ridge and Lasso coefficients in the lists\n",
    "for index, (a, b) in enumerate(BikeOLS_sort):\n",
    "    rr_values[index] = BikeRRparams[a]\n",
    "    lr_values[index] = BikeLRparams[a]\n",
    "\n",
    "# Store the OLS regression coefficients in a list\n",
    "ols_values = list(np.array(BikeOLS_sort)[:,1])  \n",
    "\n",
    "# Store x_values and width values in the corresponding variables\n",
    "x_values = np.arange(num_features)\n",
    "width=1/4\n",
    "\n",
    "# Plot OLS, Ridge, and Lasso regression data in the same bar plot, adjusting the width, color, alpha levels, and position\n",
    "ax.bar(x_values, [abs(float(number)) for number in ols_values], width, alpha=1, label=\"OLS\")\n",
    "ax.bar(x_values + width, [abs(number) for number in rr_values], width, alpha=0.5, label = \"Ridge\")\n",
    "ax.bar(x_values + width * 2, [abs(number) for number in lr_values], -width, alpha=0.5, label = \"Lasso\")\n",
    "\n",
    "# Add labels, grid, and legend\n",
    "ax.set_title(\"Coefficients for Predictors\", fontweight=\"bold\")\n",
    "ax.set_xticklabels([a for (a, b) in BikeOLS_sort])\n",
    "ax.set_xticks(x_values + .25)\n",
    "ax.set_xlabel(\"Feature Variables\")\n",
    "ax.set_ylabel(\"Magnitude of Coefficients\")\n",
    "ax.grid(True)\n",
    "ax.legend();"
   ]
  },
  {
   "cell_type": "markdown",
   "metadata": {},
   "source": [
    "#### 2.6 Let's examine a pair of features we believe to be related.  Is there a difference in the way Ridge and Lasso regression assign coefficients ...v"
   ]
  },
  {
   "cell_type": "markdown",
   "metadata": {},
   "source": [
    "<HR>\n",
    "The coefficient for temp is much larger than the one for atemp for both Ridge an Lasso regression models.  However, the ratio temp : atemp is slightly larger for the Lasso coefficients than for the Ridge coefficients.\n",
    "<HR>"
   ]
  },
  {
   "cell_type": "markdown",
   "metadata": {},
   "source": [
    "#### 2.7.1 How do the estimated coefficients compare to or differ from ..."
   ]
  },
  {
   "cell_type": "markdown",
   "metadata": {},
   "source": [
    "<HR>\n",
    "The Lasso and OLS coefficients align much closer than OLS and Ridge coefficients.  The following variables have the most visible discrepancies: Storm, October, Summer, Sept, May, Mar, Dec, August, June, and July. The storm coefficient has the most variation between the models (the Ridge model differs drastically while the OLS and Lasso also differ significantly).  The values for the OLS coefficients are generally larger or equal in magnitude to the other two models, with the exceptions of where ridge is larger: atemp. For holiday and Friday, Lasso is larger, and for Wednesday and year both the Lasso and Ridge coefficents are larger than the OLS model.\n",
    "<HR>"
   ]
  },
  {
   "cell_type": "markdown",
   "metadata": {},
   "source": [
    "#### 2.7.2 Is there a difference between coefficients estimated by the two shrinkage methods ..."
   ]
  },
  {
   "cell_type": "markdown",
   "metadata": {},
   "source": [
    "<HR>\n",
    "    Yes, there is a difference. Coefficients estimated by the Lasso Regression model are generally higher in magnitude than the coefficients estimated by the Ridge and OLS regression models. \n",
    "<HR>"
   ]
  },
  {
   "cell_type": "markdown",
   "metadata": {},
   "source": [
    "#### 2.7.3 Is the significance related to the shrinkage in some way?"
   ]
  },
  {
   "cell_type": "markdown",
   "metadata": {},
   "source": [
    "<HR>\n",
    "In general, Lasso has a higher estimated coefficient magnitude than Ridge since the Lasso model sets the irrelevant coefficients to zero thereby increasing the emphasis on the coefficients that actually have an impact on the model. \n",
    "<HR>"
   ]
  },
  {
   "cell_type": "markdown",
   "metadata": {},
   "source": [
    "<div class='exercise'> <b> Question 3: Polynomial Features, Interaction Terms, and Cross Validation </b> </div>\n"
   ]
  },
  {
   "cell_type": "markdown",
   "metadata": {},
   "source": [
    "We would like to fit a model to include all main effects and polynomial terms for numerical predictors up to the $4^{th}$ order. More precisely use the following terms: \n",
    " - predictors in `X_train` and `X_test`\n",
    " - $X^1_j$, $X^2_j$, $X^3_j$, and $X^4_j$ for each numerical predictor $X_j$\n",
    "\n",
    "**3.1** Create an expanded training set including all the desired terms mentioned above. Store that training set (as a pandas dataframe) in the variable `X_train_poly`.  Create the corresponding test set and store it as a pandas dataframe in `X_test_poly`.\n",
    "\n",
    "**3.2** Discuss the following:\n",
    "\n",
    "1. What are the dimensions of this 'design matrix' of all the predictor variables in 3.1?  \n",
    "2. What issues may we run into attempting to fit a regression model using all of these predictors?\n",
    "\n",
    "**3.3** Let's try fitting a regression model on all the predictors anyway.  Use the `LinearRegression` library from `sklearn` to fit a multiple linear regression model to the training set data in `X_train_poly`.  Store the fitted model in the variable `BikeOLSPolyModel`.\n",
    "\n",
    "**3.4** Discuss the following:\n",
    "1. What are the training and test $R^2$ scores? \n",
    "2. How does the model performance compare with the OLS model on the original set of features in Question 1?\n",
    "\n",
    "**3.5** The training set $R^2$ score we generated for our model with polynomial and interaction terms doesn't have any error bars.  Let's use cross-validation to generate sample sets of $R^2$ for our model. Use 5-fold cross-validation to generate $R^2$ scores for the multiple linear regression model with polynomial terms.  What are the mean and standard deviation of the $R^2$ scores for your model.\n",
    "\n",
    "**3.6** Visualize the $R^2$ scores generated from the 5-fold cross validation as a box and whisker plot.\n",
    "\n",
    "**3.7** We've used cross-validation to generate error bars around our $R^2$ scores, but another use of cross-validation is as a way of model selection.  Let's construct the following model alternatives:\n",
    "\n",
    "1. Multiple linear regression model generated based upon the feature set in Question 1 (let's call these the base features.\n",
    "2. base features plus polynomial features to order 2\n",
    "3. base features plus polynomial features to order 4\n",
    "\n",
    "Use 5-fold cross validation on the training set to select the best model.  Make sure to evaluate all the models as much as possible on the same folds.  For each model generate a mean and standard deviation for the $R^2$ score.\n",
    "\n",
    "**3.8** Visualize the $R^2$ scores generated for each model from 5-fold cross validation in box and whiskers plots.  Do the box and whisker plots influence your view of which model was best?\n",
    "\n",
    "**3.9** Evaluate each of the model alternatives on the test set.  How do the results compare with the results from cross-validation?"
   ]
  },
  {
   "cell_type": "markdown",
   "metadata": {},
   "source": [
    "### Answers"
   ]
  },
  {
   "cell_type": "markdown",
   "metadata": {},
   "source": [
    "#### 3.1 Create an expanded training set including all the desired terms mentioned above. Store that training set (as a numpy array) in the variable `X_train_poly`...."
   ]
  },
  {
   "cell_type": "code",
   "execution_count": 294,
   "metadata": {
    "scrolled": true
   },
   "outputs": [],
   "source": [
    "# Create dataframe of higher order polynomials on a feature column up to order k\n",
    "def get_polynomial_features(df, feature_column, degree):\n",
    "    \"\"\"Returns higher order features of selected feature columns\n",
    "    \n",
    "    Args:\n",
    "        df: the data to be split and used\n",
    "        feature_column: the column name to return higher order features for\n",
    "        degree: the highest degree for the feature\n",
    "    \n",
    "    Returns:\n",
    "        Returns a DataFrame of the higher order features for the feature variable\n",
    "    \"\"\"\n",
    "    \n",
    "    # Initialize a PolynomialFeature model with the given degree\n",
    "    poly_model = PolynomialFeatures(degree, include_bias=False)\n",
    "    \n",
    "    # Store the feature data in a DataFrame\n",
    "    feature_data = df[feature_column]\n",
    "    \n",
    "    # transform to get all the polynomial features of this column\n",
    "    higher_order_features = poly_model.fit_transform(feature_data.values.reshape(-1,1))\n",
    "    \n",
    "    # Extract feature names for the higher order features\n",
    "    feature_names = poly_model.get_feature_names([feature_column])\n",
    "    \n",
    "    # Return the new feature data as a dataframe\n",
    "    return pd.DataFrame(higher_order_features[:,1:], columns = feature_names[1:])\n",
    "\n",
    "# define continuous features \n",
    "continuous_columns = ['temp', 'atemp', 'hum', 'windspeed']\n",
    "\n",
    "# generate dfs with the higher order features\n",
    "quartic_train =[get_polynomial_features(X_train, feature, 4) for feature in continuous_columns]\n",
    "quartic_test = [get_polynomial_features(X_test, feature, 4) for feature in continuous_columns]\n",
    "\n",
    "# append the higher order features to the other feature data\n",
    "quartic_train = pd.concat(quartic_train, axis=1)\n",
    "quartic_test = pd.concat(quartic_test, axis=1)\n",
    "\n",
    "# Stor the list of column names\n",
    "quartic_columns = quartic_train.columns\n",
    "\n",
    "# scale higher order polynomial features\n",
    "scaler = StandardScaler().fit(quartic_train)\n",
    "\n",
    "# Standardize the features\n",
    "quartic_train[quartic_columns] = scaler.transform(quartic_train)\n",
    "quartic_test[quartic_columns] = scaler.transform(quartic_test)\n",
    "\n",
    "# concatenate to get the full data frames\n",
    "X_train_poly = pd.concat([X_train, quartic_train], axis=1)\n",
    "X_test_poly = pd.concat([X_test, quartic_test], axis=1);"
   ]
  },
  {
   "cell_type": "code",
   "execution_count": 295,
   "metadata": {},
   "outputs": [
    {
     "data": {
      "text/plain": [
       "(13903, 43)"
      ]
     },
     "execution_count": 295,
     "metadata": {},
     "output_type": "execute_result"
    }
   ],
   "source": [
    "# Print the feature data shape\n",
    "X_train_poly.shape"
   ]
  },
  {
   "cell_type": "markdown",
   "metadata": {},
   "source": [
    "#### 3.2.1 What are the dimensions of this 'design matrix'...**"
   ]
  },
  {
   "cell_type": "markdown",
   "metadata": {},
   "source": [
    "<HR>\n",
    "There are 13903 rows corresponding to 13903 observations in the training set.  There are 43 columns in the design matrix corresponding to the 31 original feature variables as well as the quadratic, cubic, and quartic features for the four continuous feature variables. \n",
    "<HR>"
   ]
  },
  {
   "cell_type": "markdown",
   "metadata": {},
   "source": [
    "#### 3.2.2 What issues may we run into attempting to fit a regression model using all of these predictors? ...**"
   ]
  },
  {
   "cell_type": "markdown",
   "metadata": {},
   "source": [
    "<HR>\n",
    "With a high number of feature variables and feature variables of 4 different degrees for numerous variables, overfitting is a potential issue.  With feature variables that also seem to be related (i.e. month and season, atemp and temp, workingday and days of the week), collinearity seems likely to be a potential issue with this model.\n",
    "<HR>"
   ]
  },
  {
   "cell_type": "markdown",
   "metadata": {},
   "source": [
    "#### 3.3 Let's try fitting a regression model on all the predictors anyway.  Use the `LinearRegression` library from `sklearn` to fit a multiple linear regression model ...."
   ]
  },
  {
   "cell_type": "code",
   "execution_count": 296,
   "metadata": {},
   "outputs": [],
   "source": [
    "# store the fitted model \n",
    "BikeOLSPolyModel = LinearRegression().fit(X_train_poly, y_train)"
   ]
  },
  {
   "cell_type": "markdown",
   "metadata": {},
   "source": [
    "#### 3.4.1 What are the training and test $R^2$ scores?"
   ]
  },
  {
   "cell_type": "code",
   "execution_count": 297,
   "metadata": {},
   "outputs": [
    {
     "name": "stdout",
     "output_type": "stream",
     "text": [
      "\u001b[1mR^2 Scores:\u001b[0m\n",
      "Training: 0.42230805166587104\n",
      "Test: 0.4194232238324874\n"
     ]
    }
   ],
   "source": [
    "# Store the training and test R^2 scores\n",
    "train_r2_d4 = r2_score(y_train, BikeOLSPolyModel.predict(X_train_poly))\n",
    "test_r2_d4 = r2_score(y_test, BikeOLSPolyModel.predict(X_test_poly))\n",
    "\n",
    "# Print the results\n",
    "print(\"\\033[1mR^2 Scores:\\033[0m\\nTraining: {0}\\nTest: {1}\".format(train_r2_d4, test_r2_d4))"
   ]
  },
  {
   "cell_type": "markdown",
   "metadata": {},
   "source": [
    "#### 3.4.2 How does the model performance compare with the OLS model on the original set of features in Question 1?"
   ]
  },
  {
   "cell_type": "markdown",
   "metadata": {},
   "source": [
    "<HR>\n",
    "The R^2 values for the polynomial model are over 2 % better (0.01) than the R^2 values for the OLS model in Question 1. Based on the test R^2 values, the polynomial model performs better. However, it is uncertain whether adding all 12 feature columns is beneficial, and a stepwise selection could be helpful with optimizing the model features.\n",
    "<HR>"
   ]
  },
  {
   "cell_type": "markdown",
   "metadata": {},
   "source": [
    "#### 3.5 The training set $R^2$ score we generated for our model with polynomial and interaction terms doesn't have any error bars.  Let's use cross-validation to generate sample..."
   ]
  },
  {
   "cell_type": "code",
   "execution_count": 298,
   "metadata": {},
   "outputs": [
    {
     "name": "stdout",
     "output_type": "stream",
     "text": [
      "\u001b[1mCV Scores (Quartic):\u001b[0m\n",
      "Mean: 0.26727805322296977\n",
      "Standard Deviation: 0.09109366555046658\n"
     ]
    }
   ],
   "source": [
    "# Store the cv scores for the OLS model with higher order features\n",
    "cv_scores_quart = cross_val_score(LinearRegression(), X_train_poly, y_train, cv=5)\n",
    "\n",
    "# Print mean and standard deviation\n",
    "print(\"\\033[1mCV Scores (Quartic):\\033[0m\\nMean: {0}\\nStandard Deviation: {1}\".format(cv_scores_quart.mean(), cv_scores_quart.std()))"
   ]
  },
  {
   "cell_type": "markdown",
   "metadata": {},
   "source": [
    "**3.6**"
   ]
  },
  {
   "cell_type": "code",
   "execution_count": 300,
   "metadata": {},
   "outputs": [
    {
     "data": {
      "image/png": "[encoded data removed]",
      "text/plain": [
       "<Figure size 720x432 with 1 Axes>"
      ]
     },
     "metadata": {},
     "output_type": "display_data"
    }
   ],
   "source": [
    "# Initialize the figure\n",
    "fig, ax = plt.subplots(1,1,figsize=(10,6))\n",
    "\n",
    "# Display boxplot\n",
    "ax.boxplot(cv_scores_quart)\n",
    "\n",
    "# Add labels\n",
    "ax.set_title(\"Higher Order Features OLS - Degree 4\")\n",
    "ax.set_xticklabels([\"Model with Quartic Features\"])\n",
    "ax.set_ylabel(\"R^2 Value\");"
   ]
  },
  {
   "cell_type": "markdown",
   "metadata": {},
   "source": [
    "#### 3.7 We've used cross-validation to generate error bars around our $R^2$ scores, but another use of cross-validation is as a way of model selection.  Let's construct the following model alternatives ..."
   ]
  },
  {
   "cell_type": "code",
   "execution_count": 301,
   "metadata": {
    "scrolled": true
   },
   "outputs": [
    {
     "name": "stdout",
     "output_type": "stream",
     "text": [
      "\u001b[1mCV Scores (Quadratic):\u001b[0m\n",
      "Mean: 0.263258751169427\n",
      "Standard Deviation: 0.07670352483743688\n"
     ]
    }
   ],
   "source": [
    "# generate dfs with the quadratic features\n",
    "quadratic_train =[get_polynomial_features(X_train, feature, 2) for feature in continuous_columns]\n",
    "quadratic_test = [get_polynomial_features(X_test, feature, 2) for feature in continuous_columns]\n",
    "\n",
    "# append the quadratic features to the other feature data\n",
    "quadratic_train = pd.concat(quadratic_train, axis=1)\n",
    "quadratic_test = pd.concat(quadratic_test, axis=1)\n",
    "\n",
    "# Store the list of column names\n",
    "quadratic_columns = quadratic_train.columns\n",
    "\n",
    "# scale quadratic features\n",
    "scaler = StandardScaler().fit(quadratic_train)\n",
    "\n",
    "# Standardize the features\n",
    "quadratic_train[quadratic_columns] = scaler.transform(quadratic_train)\n",
    "quadratic_test[quadratic_columns] = scaler.transform(quadratic_test)\n",
    "\n",
    "# concatenate to get the full data frames\n",
    "X_train_quad = pd.concat([X_train, quadratic_train], axis=1)\n",
    "X_test_quad = pd.concat([X_test, quadratic_test], axis=1)\n",
    "\n",
    "# Store cv_scores for the data from Question 1\n",
    "cv_scores_quad = cross_val_score(LinearRegression(), X_train_quad, y_train, cv=5)\n",
    "\n",
    "# Print mean and standard deviation\n",
    "print(\"\\033[1mCV Scores (Quadratic):\\033[0m\\nMean: {0}\\nStandard Deviation: {1}\".format(cv_scores_quad.mean(), cv_scores_quad.std()))"
   ]
  },
  {
   "cell_type": "code",
   "execution_count": 302,
   "metadata": {},
   "outputs": [
    {
     "name": "stdout",
     "output_type": "stream",
     "text": [
      "\u001b[1mCV Scores (Linear):\u001b[0m\n",
      "Mean: 0.2579944364362185\n",
      "Standard Deviation: 0.09220055096227689\n"
     ]
    }
   ],
   "source": [
    "# Store cv_scores for the data from Question 1\n",
    "cv_scores = cross_val_score(LinearRegression(), X_train, y_train, cv=5)\n",
    "\n",
    "# Print mean and standard deviation\n",
    "print(\"\\033[1mCV Scores (Linear):\\033[0m\\nMean: {0}\\nStandard Deviation: {1}\".format(cv_scores.mean(), cv_scores.std()))"
   ]
  },
  {
   "cell_type": "markdown",
   "metadata": {},
   "source": [
    "#### 3.8 Visualize the $R^2$ scores generated for each model from 5-fold cross validation in box and whiskers plots.  Do the box and whisker plots influence your view of which model was best? ..."
   ]
  },
  {
   "cell_type": "code",
   "execution_count": 303,
   "metadata": {},
   "outputs": [
    {
     "data": {
      "image/png": "[encoded data removed]",
      "text/plain": [
       "<Figure size 720x432 with 1 Axes>"
      ]
     },
     "metadata": {},
     "output_type": "display_data"
    }
   ],
   "source": [
    "# Initialize the figure\n",
    "fig, ax = plt.subplots(1,1, figsize=(10,6))\n",
    "\n",
    "# Plot the Boxplots of CV scores\n",
    "cv_scores_list = [cv_scores, cv_scores_quad, cv_scores_quart]\n",
    "for i, score in enumerate(cv_scores_list):\n",
    "    ax.boxplot(score, positions=[i])\n",
    "\n",
    "# Add Labels\n",
    "ax.set_title(\"CV scores for Higher Order Features\")\n",
    "ax.set_xlabel(\"Model\")\n",
    "ax.set_ylabel(\"Score\")\n",
    "ax.set_xlim(-1,3)\n",
    "ax.set_xticks(range(3))\n",
    "ax.set_xticklabels([\"Linear\",\"Quadratic\",\"Quartic\"]);"
   ]
  },
  {
   "cell_type": "markdown",
   "metadata": {},
   "source": [
    "**Looking at the box and whisker plots, the quadratic model seems to be the best one as the variance in score appears to be the smallest and most normally distributed of the three models.  However, all three models appear to be highly skewed to the left, with the quartic being the most extreme of the three.**"
   ]
  },
  {
   "cell_type": "markdown",
   "metadata": {},
   "source": [
    "#### 3.9 Evaluate each of the model alternatives on the  test set.  How do the results compare with the results from cross-validation?"
   ]
  },
  {
   "cell_type": "code",
   "execution_count": 304,
   "metadata": {},
   "outputs": [
    {
     "name": "stdout",
     "output_type": "stream",
     "text": [
      "\u001b[1mTest R^2 scores:\u001b[0m\n",
      "Quartic Features: 0.4194232238324874\n",
      "Quadratic Features: 0.4098337591596225\n",
      "Linear Features: 0.40540416900870035\n"
     ]
    }
   ],
   "source": [
    "# Fit the quadratic features to a model and obtain the test R^2 score\n",
    "quadratic_model = LinearRegression().fit(X_train_quad, y_train)\n",
    "test_r2_d2 = r2_score(y_test, quadratic_model.predict(X_test_quad))\n",
    "\n",
    "# Call R^2 test variable for model from Q1\n",
    "test_r2_d1 = r2_test\n",
    "\n",
    "# Print the Test R^2 Scores\n",
    "print(\"\\033[1mTest R^2 scores:\\033[0m\\nQuartic Features: {0}\\nQuadratic Features: {1}\\nLinear Features: {2}\".format(test_r2_d4, test_r2_d2, test_r2_d1))"
   ]
  },
  {
   "cell_type": "markdown",
   "metadata": {},
   "source": [
    "<HR>\n",
    "**The results here would potentially lead to a different conclusion than the one made with Cross Validation, as the Quartic Features seems to fit the test data decently better than the other two models based on test R^2 values alone.**\n",
    "<HR>"
   ]
  },
  {
   "cell_type": "code",
   "execution_count": null,
   "metadata": {},
   "outputs": [],
   "source": []
  },
  {
   "cell_type": "code",
   "execution_count": null,
   "metadata": {},
   "outputs": [],
   "source": []
  }
 ],
 "metadata": {
  "anaconda-cloud": {},
  "kernelspec": {
   "display_name": "Python 3",
   "language": "python",
   "name": "python3"
  },
  "language_info": {
   "codemirror_mode": {
    "name": "ipython",
    "version": 3
   },
   "file_extension": ".py",
   "mimetype": "text/x-python",
   "name": "python",
   "nbconvert_exporter": "python",
   "pygments_lexer": "ipython3",
   "version": "3.6.7"
  }
 },
 "nbformat": 4,
 "nbformat_minor": 2
}
